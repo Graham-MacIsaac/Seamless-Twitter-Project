{
 "cells": [
  {
   "cell_type": "markdown",
   "id": "c4b44f9f",
   "metadata": {},
   "source": [
    "### Seamless Bay Area Tweet Analysis: Part 2, Exploratory Data Analysis\n",
    "\n",
    "\n",
    "The goal of this project is to analyze the twitter account of the nonprofit group Seamless Bay Area and determine what makes up the most high-impact tweet as measured by engagements.\n",
    "\n",
    "In part two we perform some EDA to see what we're working with."
   ]
  },
  {
   "cell_type": "code",
   "execution_count": 1,
   "id": "ebf849aa",
   "metadata": {},
   "outputs": [],
   "source": [
    "# Load necessary libraries\n",
    "import pandas as pd\n",
    "import numpy as np\n",
    "import statistics as stat\n",
    "import re\n",
    "from sklearn import linear_model\n",
    "from sklearn.linear_model import LinearRegression"
   ]
  },
  {
   "cell_type": "code",
   "execution_count": 10,
   "id": "78d52547",
   "metadata": {},
   "outputs": [],
   "source": [
    "df = pd.read_csv(\"/Users/grahamsmith/Documents/SpringboardWork/Seamless_Twitter_Analysis/cleaned tweets.csv\")"
   ]
  },
  {
   "cell_type": "code",
   "execution_count": 11,
   "id": "bbe1a32e",
   "metadata": {
    "scrolled": true
   },
   "outputs": [
    {
     "data": {
      "text/html": [
       "<div>\n",
       "<style scoped>\n",
       "    .dataframe tbody tr th:only-of-type {\n",
       "        vertical-align: middle;\n",
       "    }\n",
       "\n",
       "    .dataframe tbody tr th {\n",
       "        vertical-align: top;\n",
       "    }\n",
       "\n",
       "    .dataframe thead th {\n",
       "        text-align: right;\n",
       "    }\n",
       "</style>\n",
       "<table border=\"1\" class=\"dataframe\">\n",
       "  <thead>\n",
       "    <tr style=\"text-align: right;\">\n",
       "      <th></th>\n",
       "      <th>Unnamed: 0</th>\n",
       "      <th>Tweet text</th>\n",
       "      <th>time</th>\n",
       "      <th>impressions</th>\n",
       "      <th>engagements</th>\n",
       "      <th>engagement rate</th>\n",
       "      <th>retweets</th>\n",
       "      <th>replies</th>\n",
       "      <th>likes</th>\n",
       "      <th>user profile clicks</th>\n",
       "      <th>url clicks</th>\n",
       "      <th>tweet words</th>\n",
       "    </tr>\n",
       "  </thead>\n",
       "  <tbody>\n",
       "    <tr>\n",
       "      <th>0</th>\n",
       "      <td>0</td>\n",
       "      <td>@MTCBATA is looking for a new Executive Direct...</td>\n",
       "      <td>2018-10-27 18:01:00</td>\n",
       "      <td>124.0</td>\n",
       "      <td>5.0</td>\n",
       "      <td>0.040323</td>\n",
       "      <td>0.0</td>\n",
       "      <td>0.0</td>\n",
       "      <td>0.0</td>\n",
       "      <td>1.0</td>\n",
       "      <td>4.0</td>\n",
       "      <td>['@mtcbata', 'is', 'looking', 'for', 'a', 'new...</td>\n",
       "    </tr>\n",
       "    <tr>\n",
       "      <th>1</th>\n",
       "      <td>1</td>\n",
       "      <td>Ultimate seamlessness. https://t.co/CdCLrg2o6a</td>\n",
       "      <td>2018-10-26 14:24:00</td>\n",
       "      <td>345.0</td>\n",
       "      <td>10.0</td>\n",
       "      <td>0.028986</td>\n",
       "      <td>0.0</td>\n",
       "      <td>0.0</td>\n",
       "      <td>1.0</td>\n",
       "      <td>0.0</td>\n",
       "      <td>9.0</td>\n",
       "      <td>['ultimate', 'seamlessness.', 'https://t.co/cd...</td>\n",
       "    </tr>\n",
       "    <tr>\n",
       "      <th>2</th>\n",
       "      <td>2</td>\n",
       "      <td>Help Nix Prop 6! Save funding for more seamles...</td>\n",
       "      <td>2018-10-26 02:28:00</td>\n",
       "      <td>994.0</td>\n",
       "      <td>19.0</td>\n",
       "      <td>0.019115</td>\n",
       "      <td>4.0</td>\n",
       "      <td>0.0</td>\n",
       "      <td>5.0</td>\n",
       "      <td>3.0</td>\n",
       "      <td>5.0</td>\n",
       "      <td>['help', 'nix', 'prop', 'save', 'funding', 'fo...</td>\n",
       "    </tr>\n",
       "    <tr>\n",
       "      <th>3</th>\n",
       "      <td>3</td>\n",
       "      <td>It doesn't have to be this way! Let's get to f...</td>\n",
       "      <td>2018-10-23 23:29:00</td>\n",
       "      <td>792.0</td>\n",
       "      <td>7.0</td>\n",
       "      <td>0.008838</td>\n",
       "      <td>2.0</td>\n",
       "      <td>0.0</td>\n",
       "      <td>4.0</td>\n",
       "      <td>1.0</td>\n",
       "      <td>0.0</td>\n",
       "      <td>['it', \"doesn't\", 'have', 'to', 'be', 'this', ...</td>\n",
       "    </tr>\n",
       "    <tr>\n",
       "      <th>4</th>\n",
       "      <td>4</td>\n",
       "      <td>And then come say hi at next month’s @SPUR_Urb...</td>\n",
       "      <td>2018-10-23 23:09:00</td>\n",
       "      <td>532.0</td>\n",
       "      <td>3.0</td>\n",
       "      <td>0.005639</td>\n",
       "      <td>0.0</td>\n",
       "      <td>0.0</td>\n",
       "      <td>1.0</td>\n",
       "      <td>2.0</td>\n",
       "      <td>0.0</td>\n",
       "      <td>['and', 'then', 'come', 'say', 'hi', 'at', 'ne...</td>\n",
       "    </tr>\n",
       "  </tbody>\n",
       "</table>\n",
       "</div>"
      ],
      "text/plain": [
       "   Unnamed: 0                                         Tweet text  \\\n",
       "0           0  @MTCBATA is looking for a new Executive Direct...   \n",
       "1           1     Ultimate seamlessness. https://t.co/CdCLrg2o6a   \n",
       "2           2  Help Nix Prop 6! Save funding for more seamles...   \n",
       "3           3  It doesn't have to be this way! Let's get to f...   \n",
       "4           4  And then come say hi at next month’s @SPUR_Urb...   \n",
       "\n",
       "                  time  impressions  engagements  engagement rate  retweets  \\\n",
       "0  2018-10-27 18:01:00        124.0          5.0         0.040323       0.0   \n",
       "1  2018-10-26 14:24:00        345.0         10.0         0.028986       0.0   \n",
       "2  2018-10-26 02:28:00        994.0         19.0         0.019115       4.0   \n",
       "3  2018-10-23 23:29:00        792.0          7.0         0.008838       2.0   \n",
       "4  2018-10-23 23:09:00        532.0          3.0         0.005639       0.0   \n",
       "\n",
       "   replies  likes  user profile clicks  url clicks  \\\n",
       "0      0.0    0.0                  1.0         4.0   \n",
       "1      0.0    1.0                  0.0         9.0   \n",
       "2      0.0    5.0                  3.0         5.0   \n",
       "3      0.0    4.0                  1.0         0.0   \n",
       "4      0.0    1.0                  2.0         0.0   \n",
       "\n",
       "                                         tweet words  \n",
       "0  ['@mtcbata', 'is', 'looking', 'for', 'a', 'new...  \n",
       "1  ['ultimate', 'seamlessness.', 'https://t.co/cd...  \n",
       "2  ['help', 'nix', 'prop', 'save', 'funding', 'fo...  \n",
       "3  ['it', \"doesn't\", 'have', 'to', 'be', 'this', ...  \n",
       "4  ['and', 'then', 'come', 'say', 'hi', 'at', 'ne...  "
      ]
     },
     "execution_count": 11,
     "metadata": {},
     "output_type": "execute_result"
    }
   ],
   "source": [
    "#once again, here is our data for reference\n",
    "df.head()"
   ]
  },
  {
   "cell_type": "markdown",
   "id": "be5044d3",
   "metadata": {},
   "source": [
    "Let's start with the lowest hanging fruit by checking the linear relationship between some easy to engineer features and engagements."
   ]
  },
  {
   "cell_type": "code",
   "execution_count": 14,
   "id": "ec4499b4",
   "metadata": {},
   "outputs": [],
   "source": [
    "#let's make hour and minute their own columns for the regression\n",
    "#for some inexplicable reason, to_csv reverts datetime objects to strings so it needs to be converted again\n",
    "from datetime import datetime\n",
    "temp = []\n",
    "for x in range(len(df['time'])):\n",
    "    temp.append(datetime.strptime(str(df['time'].iloc[x]), '%Y-%m-%d %H:%M:%S'))\n",
    "df['time'] = temp\n",
    "\n",
    "temp = []\n",
    "for x in df['time']:\n",
    "    temp.append(x.hour)\n",
    "df['hour'] = temp\n",
    "\n",
    "temp = []\n",
    "for x in df['time']:\n",
    "    temp.append(x.minute)\n",
    "df['minute'] = temp"
   ]
  },
  {
   "cell_type": "markdown",
   "id": "41036f5f",
   "metadata": {},
   "source": [
    "Does minute or hour have any linear relationship with engagements?"
   ]
  },
  {
   "cell_type": "code",
   "execution_count": 16,
   "id": "d0de7e31",
   "metadata": {},
   "outputs": [
    {
     "data": {
      "text/plain": [
       "0.0008656056383354871"
      ]
     },
     "execution_count": 16,
     "metadata": {},
     "output_type": "execute_result"
    }
   ],
   "source": [
    "#check the relationship between minute of the hour and engagements\n",
    "model = LinearRegression()\n",
    "a = df['minute'].to_numpy()\n",
    "x = a.reshape(-1, 1)\n",
    "y = df['engagements']\n",
    "model.fit(x,y)\n",
    "r_sq = model.score(x, y)\n",
    "r_sq\n"
   ]
  },
  {
   "cell_type": "markdown",
   "id": "9550ac4f",
   "metadata": {},
   "source": [
    "Well that's pretty bad. Let's check the components of engagements (retweets, likes, user profile clicks, and url clicks to see if they are any better)"
   ]
  },
  {
   "cell_type": "code",
   "execution_count": 96,
   "id": "91a2f4c9",
   "metadata": {},
   "outputs": [
    {
     "name": "stdout",
     "output_type": "stream",
     "text": [
      "0.0018227199865947785\n",
      "8.042008938502487e-05\n",
      "0.001384725052739677\n",
      "0.002011070623837319\n",
      "0.0026260684731778117\n"
     ]
    }
   ],
   "source": [
    "#check the relationship between minute of the hour and engagements\n",
    "model = LinearRegression()\n",
    "a = df['minute'].to_numpy()\n",
    "x = a.reshape(-1, 1)\n",
    "component_cols = df.columns[6:11]\n",
    "for y in component_cols:\n",
    "    z = df[str(y)]\n",
    "    model.fit(x,z)\n",
    "    r_sq = model.score(x, z)\n",
    "    print(r_sq)\n"
   ]
  },
  {
   "cell_type": "markdown",
   "id": "43621555",
   "metadata": {},
   "source": [
    "Not much better. How about for hour?"
   ]
  },
  {
   "cell_type": "code",
   "execution_count": 90,
   "id": "f6fc8cc1",
   "metadata": {},
   "outputs": [
    {
     "data": {
      "text/plain": [
       "7.496145321439496e-05"
      ]
     },
     "execution_count": 90,
     "metadata": {},
     "output_type": "execute_result"
    }
   ],
   "source": [
    "#check the relationship between hour of the day and engagements\n",
    "model = LinearRegression()\n",
    "a = df['hour'].to_numpy()\n",
    "x = a.reshape(-1, 1)\n",
    "y = df['engagements']\n",
    "model.fit(x,y)\n",
    "r_sq = model.score(x, y)\n",
    "r_sq\n"
   ]
  },
  {
   "cell_type": "code",
   "execution_count": 97,
   "id": "54645dcb",
   "metadata": {
    "scrolled": true
   },
   "outputs": [
    {
     "name": "stdout",
     "output_type": "stream",
     "text": [
      "0.000882945640148125\n",
      "4.989128501442508e-06\n",
      "0.00016091964504161282\n",
      "2.2368825847163265e-06\n",
      "0.0002579057132280349\n"
     ]
    }
   ],
   "source": [
    "#check the relationship between minute of the hour and engagements\n",
    "model = LinearRegression()\n",
    "a = df['hour'].to_numpy()\n",
    "x = a.reshape(-1, 1)\n",
    "component_cols = df.columns[6:11]\n",
    "for y in component_cols:\n",
    "    z = df[str(y)]\n",
    "    model.fit(x,z)\n",
    "    r_sq = model.score(x, z)\n",
    "    print(r_sq)"
   ]
  },
  {
   "cell_type": "markdown",
   "id": "54dd9f44",
   "metadata": {},
   "source": [
    "Pretty much as bad as the others. What about tweet length?"
   ]
  },
  {
   "cell_type": "code",
   "execution_count": 107,
   "id": "a1251795",
   "metadata": {},
   "outputs": [
    {
     "name": "stdout",
     "output_type": "stream",
     "text": [
      "0.007410389451631749\n",
      "0.024437843470524023\n",
      "0.0129464531461011\n",
      "0.021177570921540045\n",
      "0.010479325696019504\n",
      "0.005121774293253334\n"
     ]
    }
   ],
   "source": [
    "# AVERAGE NUMBER OF WORDS\n",
    "y = []\n",
    "for x in df['tweet words']:\n",
    "    y.append(len(x))\n",
    "df['tweet length'] = y\n",
    "#check the relationship between hour of the day and engagements\n",
    "model = LinearRegression()\n",
    "a = df['tweet length'].to_numpy()\n",
    "x = a.reshape(-1, 1)\n",
    "y = df['engagements']\n",
    "model.fit(x,y)\n",
    "r_sq = model.score(x, y)\n",
    "print(r_sq)\n",
    "component_cols = df.columns[6:11]\n",
    "for y in component_cols:\n",
    "    z = df[str(y)]\n",
    "    model.fit(x,z)\n",
    "    r_sq = model.score(x, z)\n",
    "    print(r_sq)"
   ]
  },
  {
   "cell_type": "markdown",
   "id": "a53583bc",
   "metadata": {},
   "source": [
    "Well, it's orders of magnitude less awful than datetime, but that's not saying much. Why don't we just see how our main target variable is distributed."
   ]
  },
  {
   "cell_type": "code",
   "execution_count": 18,
   "id": "d5f7c768",
   "metadata": {},
   "outputs": [
    {
     "data": {
      "text/plain": [
       "202.7709727690056"
      ]
     },
     "execution_count": 18,
     "metadata": {},
     "output_type": "execute_result"
    }
   ],
   "source": [
    "stat.stdev(df['engagements'])"
   ]
  },
  {
   "cell_type": "code",
   "execution_count": 19,
   "id": "e9088e5e",
   "metadata": {},
   "outputs": [
    {
     "data": {
      "text/plain": [
       "41.76567363272566"
      ]
     },
     "execution_count": 19,
     "metadata": {},
     "output_type": "execute_result"
    }
   ],
   "source": [
    "np.mean(df['engagements'])"
   ]
  },
  {
   "cell_type": "code",
   "execution_count": 21,
   "id": "252fc4c2",
   "metadata": {},
   "outputs": [
    {
     "data": {
      "text/plain": [
       "13.0"
      ]
     },
     "execution_count": 21,
     "metadata": {},
     "output_type": "execute_result"
    }
   ],
   "source": [
    "np.median(df['engagements'])"
   ]
  },
  {
   "cell_type": "markdown",
   "id": "b9d3be3b",
   "metadata": {},
   "source": [
    "Alright, the median is considerably lower than the mean which implies that there are some large outliers."
   ]
  },
  {
   "cell_type": "code",
   "execution_count": 20,
   "id": "9eca78b0",
   "metadata": {},
   "outputs": [
    {
     "data": {
      "text/plain": [
       "6879.0"
      ]
     },
     "execution_count": 20,
     "metadata": {},
     "output_type": "execute_result"
    }
   ],
   "source": [
    "np.max(df['engagements'])"
   ]
  },
  {
   "cell_type": "code",
   "execution_count": 60,
   "id": "c64b56c1",
   "metadata": {
    "scrolled": true
   },
   "outputs": [
    {
     "data": {
      "text/plain": [
       "<AxesSubplot:>"
      ]
     },
     "execution_count": 60,
     "metadata": {},
     "output_type": "execute_result"
    },
    {
     "data": {
      "image/png": "[encoded data removed]",
      "text/plain": [
       "<Figure size 432x288 with 1 Axes>"
      ]
     },
     "metadata": {
      "needs_background": "light"
     },
     "output_type": "display_data"
    }
   ],
   "source": [
    "df['engagements'].hist(bins=20)"
   ]
  },
  {
   "cell_type": "code",
   "execution_count": 42,
   "id": "7d8705b7",
   "metadata": {},
   "outputs": [
    {
     "data": {
      "text/plain": [
       "444"
      ]
     },
     "execution_count": 42,
     "metadata": {},
     "output_type": "execute_result"
    }
   ],
   "source": [
    "temp = []\n",
    "for x in df['engagements']:\n",
    "    if x > 42:\n",
    "        temp.append(x)\n",
    "len(temp)"
   ]
  },
  {
   "cell_type": "markdown",
   "id": "f104d1d0",
   "metadata": {},
   "source": [
    "only 20% of tweets are above the average number of engagements, which is extremely skewed on the low side. How skewed?"
   ]
  },
  {
   "cell_type": "code",
   "execution_count": 111,
   "id": "eb3ff70d",
   "metadata": {},
   "outputs": [
    {
     "data": {
      "text/plain": [
       "24.85900650213547"
      ]
     },
     "execution_count": 111,
     "metadata": {},
     "output_type": "execute_result"
    }
   ],
   "source": [
    "import scipy\n",
    "scipy.stats.skew(df['engagements'])"
   ]
  },
  {
   "cell_type": "markdown",
   "id": "4084fb2f",
   "metadata": {},
   "source": [
    "oof. That's not great. But it does mean that there are some extreme outliers we can look at that might tell us something about what identifies a very successful tweet."
   ]
  },
  {
   "cell_type": "code",
   "execution_count": 112,
   "id": "7afa2d43",
   "metadata": {},
   "outputs": [],
   "source": [
    "#Let's define \"high value\" tweets as those in the top 20%, with a number of engagements above average\n",
    "hi_value = df[df['engagements']>42]"
   ]
  },
  {
   "cell_type": "code",
   "execution_count": 116,
   "id": "49510d05",
   "metadata": {},
   "outputs": [
    {
     "data": {
      "text/html": [
       "<div>\n",
       "<style scoped>\n",
       "    .dataframe tbody tr th:only-of-type {\n",
       "        vertical-align: middle;\n",
       "    }\n",
       "\n",
       "    .dataframe tbody tr th {\n",
       "        vertical-align: top;\n",
       "    }\n",
       "\n",
       "    .dataframe thead th {\n",
       "        text-align: right;\n",
       "    }\n",
       "</style>\n",
       "<table border=\"1\" class=\"dataframe\">\n",
       "  <thead>\n",
       "    <tr style=\"text-align: right;\">\n",
       "      <th></th>\n",
       "      <th>Unnamed: 0</th>\n",
       "      <th>Tweet text</th>\n",
       "      <th>time</th>\n",
       "      <th>impressions</th>\n",
       "      <th>engagements</th>\n",
       "      <th>engagement rate</th>\n",
       "      <th>retweets</th>\n",
       "      <th>replies</th>\n",
       "      <th>likes</th>\n",
       "      <th>user profile clicks</th>\n",
       "      <th>url clicks</th>\n",
       "      <th>tweet words</th>\n",
       "      <th>hour</th>\n",
       "      <th>minute</th>\n",
       "      <th>ats</th>\n",
       "      <th>tweet length</th>\n",
       "    </tr>\n",
       "  </thead>\n",
       "  <tbody>\n",
       "    <tr>\n",
       "      <th>390</th>\n",
       "      <td>36</td>\n",
       "      <td>Today, Seamless Bay Area is unveiling a map of...</td>\n",
       "      <td>2020-10-27 17:28:00</td>\n",
       "      <td>43436.0</td>\n",
       "      <td>6879.0</td>\n",
       "      <td>0.158371</td>\n",
       "      <td>156.0</td>\n",
       "      <td>11.0</td>\n",
       "      <td>357.0</td>\n",
       "      <td>159.0</td>\n",
       "      <td>614.0</td>\n",
       "      <td>['today,', 'seamless', 'bay', 'area', 'is', 'u...</td>\n",
       "      <td>17</td>\n",
       "      <td>28</td>\n",
       "      <td>[]</td>\n",
       "      <td>423</td>\n",
       "    </tr>\n",
       "    <tr>\n",
       "      <th>2185</th>\n",
       "      <td>25</td>\n",
       "      <td>We created a map of the Bay Area's existing tr...</td>\n",
       "      <td>2019-07-22 15:26:00</td>\n",
       "      <td>91437.0</td>\n",
       "      <td>5065.0</td>\n",
       "      <td>0.055393</td>\n",
       "      <td>169.0</td>\n",
       "      <td>17.0</td>\n",
       "      <td>389.0</td>\n",
       "      <td>302.0</td>\n",
       "      <td>85.0</td>\n",
       "      <td>['we', 'created', 'a', 'map', 'of', 'the', 'ba...</td>\n",
       "      <td>15</td>\n",
       "      <td>26</td>\n",
       "      <td>[]</td>\n",
       "      <td>313</td>\n",
       "    </tr>\n",
       "    <tr>\n",
       "      <th>2177</th>\n",
       "      <td>17</td>\n",
       "      <td>Clearly, our existing Bay Area transit system ...</td>\n",
       "      <td>2019-07-23 14:00:00</td>\n",
       "      <td>18923.0</td>\n",
       "      <td>2118.0</td>\n",
       "      <td>0.111927</td>\n",
       "      <td>56.0</td>\n",
       "      <td>10.0</td>\n",
       "      <td>140.0</td>\n",
       "      <td>53.0</td>\n",
       "      <td>263.0</td>\n",
       "      <td>['clearly,', 'our', 'existing', 'bay', 'area',...</td>\n",
       "      <td>14</td>\n",
       "      <td>0</td>\n",
       "      <td>[@seamlessbayarea Vision Map in partnership w,...</td>\n",
       "      <td>411</td>\n",
       "    </tr>\n",
       "    <tr>\n",
       "      <th>1839</th>\n",
       "      <td>23</td>\n",
       "      <td>It takes 11 minutes to walk between the new La...</td>\n",
       "      <td>2020-01-04 18:29:00</td>\n",
       "      <td>33552.0</td>\n",
       "      <td>1549.0</td>\n",
       "      <td>0.046167</td>\n",
       "      <td>99.0</td>\n",
       "      <td>14.0</td>\n",
       "      <td>283.0</td>\n",
       "      <td>207.0</td>\n",
       "      <td>5.0</td>\n",
       "      <td>['it', 'takes', 'minutes', 'to', 'walk', 'betw...</td>\n",
       "      <td>18</td>\n",
       "      <td>29</td>\n",
       "      <td>[@smarttrain station and the , @GoldenGateFerry]</td>\n",
       "      <td>420</td>\n",
       "    </tr>\n",
       "    <tr>\n",
       "      <th>124</th>\n",
       "      <td>77</td>\n",
       "      <td>To be clear about what we do and don't advocat...</td>\n",
       "      <td>2020-12-06 21:40:00</td>\n",
       "      <td>13346.0</td>\n",
       "      <td>1035.0</td>\n",
       "      <td>0.077551</td>\n",
       "      <td>15.0</td>\n",
       "      <td>2.0</td>\n",
       "      <td>103.0</td>\n",
       "      <td>54.0</td>\n",
       "      <td>0.0</td>\n",
       "      <td>['to', 'be', 'clear', 'about', 'what', 'we', '...</td>\n",
       "      <td>21</td>\n",
       "      <td>40</td>\n",
       "      <td>[]</td>\n",
       "      <td>406</td>\n",
       "    </tr>\n",
       "    <tr>\n",
       "      <th>...</th>\n",
       "      <td>...</td>\n",
       "      <td>...</td>\n",
       "      <td>...</td>\n",
       "      <td>...</td>\n",
       "      <td>...</td>\n",
       "      <td>...</td>\n",
       "      <td>...</td>\n",
       "      <td>...</td>\n",
       "      <td>...</td>\n",
       "      <td>...</td>\n",
       "      <td>...</td>\n",
       "      <td>...</td>\n",
       "      <td>...</td>\n",
       "      <td>...</td>\n",
       "      <td>...</td>\n",
       "      <td>...</td>\n",
       "    </tr>\n",
       "    <tr>\n",
       "      <th>203</th>\n",
       "      <td>58</td>\n",
       "      <td>\"With 27 transit agencies serving the region’s...</td>\n",
       "      <td>2020-07-06 17:34:00</td>\n",
       "      <td>3692.0</td>\n",
       "      <td>43.0</td>\n",
       "      <td>0.011647</td>\n",
       "      <td>8.0</td>\n",
       "      <td>0.0</td>\n",
       "      <td>18.0</td>\n",
       "      <td>5.0</td>\n",
       "      <td>0.0</td>\n",
       "      <td>['\"with', 'transit', 'agencies', 'serving', 't...</td>\n",
       "      <td>17</td>\n",
       "      <td>34</td>\n",
       "      <td>[@CityLab piece about about the movement towar...</td>\n",
       "      <td>390</td>\n",
       "    </tr>\n",
       "    <tr>\n",
       "      <th>282</th>\n",
       "      <td>18</td>\n",
       "      <td>60 minutes to get between any two rail station...</td>\n",
       "      <td>2019-06-10 18:18:00</td>\n",
       "      <td>1722.0</td>\n",
       "      <td>43.0</td>\n",
       "      <td>0.024971</td>\n",
       "      <td>2.0</td>\n",
       "      <td>1.0</td>\n",
       "      <td>7.0</td>\n",
       "      <td>2.0</td>\n",
       "      <td>24.0</td>\n",
       "      <td>['minutes', 'to', 'get', 'between', 'any', 'tw...</td>\n",
       "      <td>18</td>\n",
       "      <td>18</td>\n",
       "      <td>[@SPUR]</td>\n",
       "      <td>296</td>\n",
       "    </tr>\n",
       "    <tr>\n",
       "      <th>1741</th>\n",
       "      <td>41</td>\n",
       "      <td>Congrats to our Seamless Bay Area Award winner...</td>\n",
       "      <td>2019-09-14 03:46:00</td>\n",
       "      <td>1122.0</td>\n",
       "      <td>43.0</td>\n",
       "      <td>0.038324</td>\n",
       "      <td>3.0</td>\n",
       "      <td>0.0</td>\n",
       "      <td>7.0</td>\n",
       "      <td>5.0</td>\n",
       "      <td>1.0</td>\n",
       "      <td>['congrats', 'to', 'our', 'seamless', 'bay', '...</td>\n",
       "      <td>3</td>\n",
       "      <td>46</td>\n",
       "      <td>[@CalParking at , @UCBerkeley, @rideact pass o...</td>\n",
       "      <td>442</td>\n",
       "    </tr>\n",
       "    <tr>\n",
       "      <th>2047</th>\n",
       "      <td>47</td>\n",
       "      <td>The Bay Area's Blue Ribbon Transit Recovery Ta...</td>\n",
       "      <td>2020-09-08 15:26:00</td>\n",
       "      <td>3042.0</td>\n",
       "      <td>43.0</td>\n",
       "      <td>0.014135</td>\n",
       "      <td>5.0</td>\n",
       "      <td>0.0</td>\n",
       "      <td>9.0</td>\n",
       "      <td>4.0</td>\n",
       "      <td>12.0</td>\n",
       "      <td>['the', 'bay', \"area's\", 'blue', 'ribbon', 'tr...</td>\n",
       "      <td>15</td>\n",
       "      <td>26</td>\n",
       "      <td>[@SPUR]</td>\n",
       "      <td>391</td>\n",
       "    </tr>\n",
       "    <tr>\n",
       "      <th>501</th>\n",
       "      <td>67</td>\n",
       "      <td>ICYMI: Join us on Sept. 21 for a lively conver...</td>\n",
       "      <td>2021-09-02 22:15:00</td>\n",
       "      <td>1536.0</td>\n",
       "      <td>43.0</td>\n",
       "      <td>0.027995</td>\n",
       "      <td>2.0</td>\n",
       "      <td>1.0</td>\n",
       "      <td>7.0</td>\n",
       "      <td>3.0</td>\n",
       "      <td>9.0</td>\n",
       "      <td>['icymi:', 'join', 'us', 'on', 'sept.', 'for',...</td>\n",
       "      <td>22</td>\n",
       "      <td>15</td>\n",
       "      <td>[@christofspieler]</td>\n",
       "      <td>428</td>\n",
       "    </tr>\n",
       "  </tbody>\n",
       "</table>\n",
       "<p>444 rows × 16 columns</p>\n",
       "</div>"
      ],
      "text/plain": [
       "      Unnamed: 0                                         Tweet text  \\\n",
       "390           36  Today, Seamless Bay Area is unveiling a map of...   \n",
       "2185          25  We created a map of the Bay Area's existing tr...   \n",
       "2177          17  Clearly, our existing Bay Area transit system ...   \n",
       "1839          23  It takes 11 minutes to walk between the new La...   \n",
       "124           77  To be clear about what we do and don't advocat...   \n",
       "...          ...                                                ...   \n",
       "203           58  \"With 27 transit agencies serving the region’s...   \n",
       "282           18  60 minutes to get between any two rail station...   \n",
       "1741          41  Congrats to our Seamless Bay Area Award winner...   \n",
       "2047          47  The Bay Area's Blue Ribbon Transit Recovery Ta...   \n",
       "501           67  ICYMI: Join us on Sept. 21 for a lively conver...   \n",
       "\n",
       "                    time  impressions  engagements  engagement rate  retweets  \\\n",
       "390  2020-10-27 17:28:00      43436.0       6879.0         0.158371     156.0   \n",
       "2185 2019-07-22 15:26:00      91437.0       5065.0         0.055393     169.0   \n",
       "2177 2019-07-23 14:00:00      18923.0       2118.0         0.111927      56.0   \n",
       "1839 2020-01-04 18:29:00      33552.0       1549.0         0.046167      99.0   \n",
       "124  2020-12-06 21:40:00      13346.0       1035.0         0.077551      15.0   \n",
       "...                  ...          ...          ...              ...       ...   \n",
       "203  2020-07-06 17:34:00       3692.0         43.0         0.011647       8.0   \n",
       "282  2019-06-10 18:18:00       1722.0         43.0         0.024971       2.0   \n",
       "1741 2019-09-14 03:46:00       1122.0         43.0         0.038324       3.0   \n",
       "2047 2020-09-08 15:26:00       3042.0         43.0         0.014135       5.0   \n",
       "501  2021-09-02 22:15:00       1536.0         43.0         0.027995       2.0   \n",
       "\n",
       "      replies  likes  user profile clicks  url clicks  \\\n",
       "390      11.0  357.0                159.0       614.0   \n",
       "2185     17.0  389.0                302.0        85.0   \n",
       "2177     10.0  140.0                 53.0       263.0   \n",
       "1839     14.0  283.0                207.0         5.0   \n",
       "124       2.0  103.0                 54.0         0.0   \n",
       "...       ...    ...                  ...         ...   \n",
       "203       0.0   18.0                  5.0         0.0   \n",
       "282       1.0    7.0                  2.0        24.0   \n",
       "1741      0.0    7.0                  5.0         1.0   \n",
       "2047      0.0    9.0                  4.0        12.0   \n",
       "501       1.0    7.0                  3.0         9.0   \n",
       "\n",
       "                                            tweet words  hour  minute  \\\n",
       "390   ['today,', 'seamless', 'bay', 'area', 'is', 'u...    17      28   \n",
       "2185  ['we', 'created', 'a', 'map', 'of', 'the', 'ba...    15      26   \n",
       "2177  ['clearly,', 'our', 'existing', 'bay', 'area',...    14       0   \n",
       "1839  ['it', 'takes', 'minutes', 'to', 'walk', 'betw...    18      29   \n",
       "124   ['to', 'be', 'clear', 'about', 'what', 'we', '...    21      40   \n",
       "...                                                 ...   ...     ...   \n",
       "203   ['\"with', 'transit', 'agencies', 'serving', 't...    17      34   \n",
       "282   ['minutes', 'to', 'get', 'between', 'any', 'tw...    18      18   \n",
       "1741  ['congrats', 'to', 'our', 'seamless', 'bay', '...     3      46   \n",
       "2047  ['the', 'bay', \"area's\", 'blue', 'ribbon', 'tr...    15      26   \n",
       "501   ['icymi:', 'join', 'us', 'on', 'sept.', 'for',...    22      15   \n",
       "\n",
       "                                                    ats  tweet length  \n",
       "390                                                  []           423  \n",
       "2185                                                 []           313  \n",
       "2177  [@seamlessbayarea Vision Map in partnership w,...           411  \n",
       "1839   [@smarttrain station and the , @GoldenGateFerry]           420  \n",
       "124                                                  []           406  \n",
       "...                                                 ...           ...  \n",
       "203   [@CityLab piece about about the movement towar...           390  \n",
       "282                                             [@SPUR]           296  \n",
       "1741  [@CalParking at , @UCBerkeley, @rideact pass o...           442  \n",
       "2047                                            [@SPUR]           391  \n",
       "501                                  [@christofspieler]           428  \n",
       "\n",
       "[444 rows x 16 columns]"
      ]
     },
     "execution_count": 116,
     "metadata": {},
     "output_type": "execute_result"
    }
   ],
   "source": [
    "hi_value_eng = hi_value.sort_values(by=['engagements'], ascending=False)\n",
    "hi_value_eng"
   ]
  },
  {
   "cell_type": "markdown",
   "id": "66c80860",
   "metadata": {},
   "source": [
    "Okay, so engagements drops off super fast. Let's take a look at the tweet content for the top 10."
   ]
  },
  {
   "cell_type": "code",
   "execution_count": 121,
   "id": "36523e2e",
   "metadata": {
    "scrolled": false
   },
   "outputs": [
    {
     "name": "stdout",
     "output_type": "stream",
     "text": [
      "Today, Seamless Bay Area is unveiling a map of our Integrated Transit Fare Vision — a fully unified system of transit fares that would enable riders to travel seamlessly across the nine-county Bay Area with a single transit fare and free transfers 🗺️ https://t.co/P94GGBfgVV https://t.co/J1Yh89BzE4\n",
      "We created a map of the Bay Area's existing transit agencies' service areas, each of which have separate fares, schedules, route planning, and branding.\n",
      "\n",
      "We think the problem speaks for itself. https://t.co/pOVU6i95cU\n",
      "Clearly, our existing Bay Area transit system doesn't work, and riders deserve better. \n",
      "\n",
      "So what would a seamless, unified system look like? We just published our @seamlessbayarea Vision Map in partnership w/ @interline_io to illustrate just that.\n",
      "\n",
      "https://t.co/LaszH9qvDk https://t.co/0OB8Ds2lNc\n",
      "It takes 11 minutes to walk between the new Larkspur @smarttrain station and the @GoldenGateFerry. The fastest way, shown here, involves cutting through a parking lot and crossing 4 streets.  \n",
      "\n",
      "What a huge missed opportunity for an excellent, seamless regional transit connection. https://t.co/G1f4HWktfL\n",
      "To be clear about what we do and don't advocate for:\n",
      "We support:\n",
      "- An equitable simple fare system structured to expand affordable access to riders across the region\n",
      "- New substantial long term funding for transit operations to increase service levels + fund fare integration 1/x\n",
      "Many Bay Area residents are understandably confused and upset after the SF Board of Supervisors yesterday declined to advance a ballot measure that could have provided stable funding for Caltrain and helped to avoid a prolonged shutdown.\n",
      "Hello transit nerds! Let's write some poetry. Write a short Bay Area transit inspired poem and tag @seamlessbayarea. The author of the fav poem, based on # of ♥️s, will win a limited edition Seamless @transitsupply t-shirt! 📜👕🚉\n",
      "\n",
      "Tweet yours by Monday night, 12/16! https://t.co/vHFFSMdCx1\n",
      "ACTION ALERT: The SF Board of Supervisors is about to debate whether to enable the @Caltrain ballot measure - or let it die today. If that happens, Caltrain risks shutdown. Join Seamless today in urging the @sfbos to move forward w/ the Caltrain ballot measure (1/2)\n",
      "Apparently more frequent service (104); cleaner buses + trains (62), running transit as one seamless system (50), &amp; better regional connections (47) would get more people using transit. So why don’t we govern or operate Bay Area transit to achieve 3/4 these outcomes? https://t.co/MQ4cLUmKv9\n",
      "At today's #BRTRTF Meeting transit agencies shared a combined Bay Area transit network map showing the region's current frequent service, overlaid on a base map showing low income households, to help identify gaps and help plan for better integration👏. \n",
      "\n",
      "Write comments below👇 https://t.co/BJSxZdmLJw\n",
      "The region's Fare Integration Task Force (transit general managers and MTC Executive Director) just voted unanimously to support the Fare Policy Vision, including advancing a pilot all-agency transit pass for organizations starting in 2022, and free transfers starting in 2023.\n",
      "We're witnessing some strange happenings in the Bay Area - any guesses on what might be coming? https://t.co/JewR9e0vDI\n",
      "Let’s namestorm - we’d love suggestions for the title of our upcoming board game! The game allows 2-5 players to compete, to see who can connect the most homes, workplaces and activities as possible via transit. Share your name ideas - the good, the bad, and the hilarious! https://t.co/tByl6JUAuv\n",
      "Under our Integrated Fare Vision proposal, riders would be charged the same amount *no matter what mode of transit they use or how many times they transfer*, providing more predictability for riders while encouraging people to use the fastest route available. https://t.co/CynNkh04GP\n",
      "34 hours left on our fundraiser, and we're just ~$500 away from raising $10,000 on our crowdfunding page!! \n",
      "\n",
      "Tell friends, neighbors, the person sitting next to you on @SFBART. Because Bay Area transit agencies are #bettertogether\n",
      "\n",
      "https://t.co/PAdRM3Axms https://t.co/2lcKHGV9PL\n",
      "📊 NEW: MTC poll of Bay Area residents conducted in April found *89%* support for a fully integrated, multimodal transit system w/ regional fares &amp; consistent mapping &amp; signage. In short, seamlessness is overwhelmingly popular ⤵️\n",
      "\n",
      "Full results here: https://t.co/K2w2osqGFZ https://t.co/XiMFYk9X7u\n",
      "We believe that a a thoughtful merger of BART and Caltrain is in the best interest of Bay Area transit riders and our region as a whole.\n",
      "\n",
      "In a new post on our blog, policy director Ian Griffiths explains why ⤵️ https://t.co/BpgAeC6mgF\n",
      "The Bay Area's 27 transit agencies, in emojis:\n",
      "🗓️🚂\n",
      "♠️\n",
      "🌊🌬️ea🎁🆔\n",
      "⬅️🐈\n",
      "⏩\n",
      "🎡🧑‍🦽🤸‍♀️☸️\n",
      "🐄v🤒🌆🚌\n",
      "🧠\n",
      "🐴📥🚍\n",
      "a👀🚍\n",
      "🔺🔺🔺\n",
      "🌛e\n",
      "🌿\n",
      "🐕a🚽🤱🚍\n",
      "🔢e 🔌\n",
      "🇧🇷🌄🔺🍃\n",
      "sam🏳️‍⚧️\n",
      "🇪🇺🌆🚍\n",
      "⌛️🥘📥s🚂\n",
      "✌️👕A\n",
      "🥇⛩️🚍\n",
      "🎅🌹a🌆🚌\n",
      "🧒🕉️a🔢e🚍\n",
      "🧢it👴🛣️\n",
      "👟🏳️‍⚧️\n",
      "sf🌊🧚‍♀️\n",
      "🎲x🔛🟥e🎢\n",
      "Can you name them all?\n",
      "The map divides the Bay Area into a series of 7-mile wide zones, each about the size of San Francisco. Fares are easy to calculate; riders simply count the minimum number of zones required to go between two points on the map, then look up the corresponding fare in the table. https://t.co/BYL0q8in8h\n",
      "📢🎲 BIG NEWS 📢🎲\n",
      "\n",
      "Seamless Bay Area has partnered with @alfred_twu to design the region's first seamless transit board game - Connect the Bay! \n",
      "\n",
      "We need YOUR support to bring this amazing game to life. Back our Connect the Bay Kickstarter today ⤵️ https://t.co/Vs4m44q19d https://t.co/8yNXCVvyCf\n"
     ]
    }
   ],
   "source": [
    "for x in hi_value_eng['Tweet text'][0:20]:\n",
    "    print(x)"
   ]
  },
  {
   "cell_type": "markdown",
   "id": "7bf829dc",
   "metadata": {},
   "source": [
    "Finally! We have something interesting. The top 20 tweets all have several things in common just from a visual inspection. Nearly all feature original videos, pictures, and especially maps (the top 3 all have maps). Several have some kind of calls to action (polls, upcoming bills, or crowdfunding). We can definitely explore this in the next notebook."
   ]
  },
  {
   "cell_type": "markdown",
   "id": "777278f7",
   "metadata": {},
   "source": [
    "I'm curious as to whether some features of engagement might be varying more significantly than other. To find out, I normalized each of the columns via maximum absolute scaling so that each value is between -1 and 1 to make direct comparison more legible."
   ]
  },
  {
   "cell_type": "code",
   "execution_count": 150,
   "id": "b3fb2dd5",
   "metadata": {},
   "outputs": [
    {
     "data": {
      "text/plain": [
       "0.07695686008030066"
      ]
     },
     "execution_count": 150,
     "metadata": {},
     "output_type": "execute_result"
    }
   ],
   "source": [
    "stat.stdev(hi_value['retweets'] /hi_value['retweets'].abs().max())"
   ]
  },
  {
   "cell_type": "code",
   "execution_count": 155,
   "id": "c91700a0",
   "metadata": {},
   "outputs": [
    {
     "data": {
      "text/plain": [
       "0.08795445125564791"
      ]
     },
     "execution_count": 155,
     "metadata": {},
     "output_type": "execute_result"
    }
   ],
   "source": [
    "stat.stdev(hi_value['likes'] /hi_value['likes'].abs().max())"
   ]
  },
  {
   "cell_type": "code",
   "execution_count": 152,
   "id": "98abbd69",
   "metadata": {},
   "outputs": [
    {
     "data": {
      "text/plain": [
       "0.10573012605634688"
      ]
     },
     "execution_count": 152,
     "metadata": {},
     "output_type": "execute_result"
    }
   ],
   "source": [
    "stat.stdev(hi_value['replies'] /hi_value['replies'].abs().max())"
   ]
  },
  {
   "cell_type": "code",
   "execution_count": 153,
   "id": "f10df4c9",
   "metadata": {},
   "outputs": [
    {
     "data": {
      "text/plain": [
       "0.07216321519924375"
      ]
     },
     "execution_count": 153,
     "metadata": {},
     "output_type": "execute_result"
    }
   ],
   "source": [
    "stat.stdev(hi_value['user profile clicks'] /hi_value['user profile clicks'].abs().max())"
   ]
  },
  {
   "cell_type": "code",
   "execution_count": 154,
   "id": "6db30ab2",
   "metadata": {},
   "outputs": [
    {
     "data": {
      "text/plain": [
       "0.06923034964668809"
      ]
     },
     "execution_count": 154,
     "metadata": {},
     "output_type": "execute_result"
    }
   ],
   "source": [
    "stat.stdev(hi_value['url clicks'] /hi_value['url clicks'].abs().max())"
   ]
  },
  {
   "cell_type": "markdown",
   "id": "d649482b",
   "metadata": {},
   "source": [
    "Darn, the standard deviations are pretty close to each other, not much to take away from that."
   ]
  },
  {
   "cell_type": "markdown",
   "id": "e9b1ed51",
   "metadata": {},
   "source": [
    "While not as informative as I'd hoped, since so many values are close to 0 and only a relatively small number of tweets had enough traction to provide usable data. In the next step of the project, pre-processing, I'm going to perform some more feature engineering and extract, at the very least, links, @replies, hashtags, and sentiment score from the tweets to prepare for modeling."
   ]
  }
 ],
 "metadata": {
  "kernelspec": {
   "display_name": "Python 3 (ipykernel)",
   "language": "python",
   "name": "python3"
  },
  "language_info": {
   "codemirror_mode": {
    "name": "ipython",
    "version": 3
   },
   "file_extension": ".py",
   "mimetype": "text/x-python",
   "name": "python",
   "nbconvert_exporter": "python",
   "pygments_lexer": "ipython3",
   "version": "3.8.8"
  }
 },
 "nbformat": 4,
 "nbformat_minor": 5
}
