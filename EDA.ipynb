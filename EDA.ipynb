{
 "cells": [
  {
   "cell_type": "markdown",
   "id": "c4b44f9f",
   "metadata": {},
   "source": [
    "### Seamless Bay Area Tweet Analysis: Part 2, Exploratory Data Analysis\n",
    "<br>\n",
    "The goal of this project is to analyze the twitter account of the nonprofit group Seamless Bay Area and determine what makes up the most high-impact tweet as measured by engagements.\n",
    "<br>\n",
    "<br>\n",
    "In part two we perform some EDA to see what we're working with.\n",
    "<br>\n",
    "<br>"
   ]
  },
  {
   "cell_type": "code",
   "execution_count": 4,
   "id": "ebf849aa",
   "metadata": {},
   "outputs": [],
   "source": [
    "# Load necessary libraries\n",
    "import pandas as pd\n",
    "import numpy as np\n",
    "import statistics as stat\n",
    "import re\n",
    "from sklearn import linear_model\n",
    "from sklearn.linear_model import LinearRegression"
   ]
  },
  {
   "cell_type": "code",
   "execution_count": 5,
   "id": "78d52547",
   "metadata": {},
   "outputs": [],
   "source": [
    "df = pd.read_csv(\"/Users/grahamsmith/Documents/SpringboardWork/Seamless_Twitter_Analysis/cleaned tweets.csv\")"
   ]
  },
  {
   "cell_type": "code",
   "execution_count": 11,
   "id": "bbe1a32e",
   "metadata": {
    "scrolled": true
   },
   "outputs": [
    {
     "data": {
      "text/html": [
       "<div>\n",
       "<style scoped>\n",
       "    .dataframe tbody tr th:only-of-type {\n",
       "        vertical-align: middle;\n",
       "    }\n",
       "\n",
       "    .dataframe tbody tr th {\n",
       "        vertical-align: top;\n",
       "    }\n",
       "\n",
       "    .dataframe thead th {\n",
       "        text-align: right;\n",
       "    }\n",
       "</style>\n",
       "<table border=\"1\" class=\"dataframe\">\n",
       "  <thead>\n",
       "    <tr style=\"text-align: right;\">\n",
       "      <th></th>\n",
       "      <th>Unnamed: 0</th>\n",
       "      <th>Tweet text</th>\n",
       "      <th>time</th>\n",
       "      <th>impressions</th>\n",
       "      <th>engagements</th>\n",
       "      <th>engagement rate</th>\n",
       "      <th>retweets</th>\n",
       "      <th>replies</th>\n",
       "      <th>likes</th>\n",
       "      <th>user profile clicks</th>\n",
       "      <th>url clicks</th>\n",
       "      <th>tweet words</th>\n",
       "    </tr>\n",
       "  </thead>\n",
       "  <tbody>\n",
       "    <tr>\n",
       "      <th>0</th>\n",
       "      <td>0</td>\n",
       "      <td>@MTCBATA is looking for a new Executive Direct...</td>\n",
       "      <td>2018-10-27 18:01:00</td>\n",
       "      <td>124.0</td>\n",
       "      <td>5.0</td>\n",
       "      <td>0.040323</td>\n",
       "      <td>0.0</td>\n",
       "      <td>0.0</td>\n",
       "      <td>0.0</td>\n",
       "      <td>1.0</td>\n",
       "      <td>4.0</td>\n",
       "      <td>['@mtcbata', 'is', 'looking', 'for', 'a', 'new...</td>\n",
       "    </tr>\n",
       "    <tr>\n",
       "      <th>1</th>\n",
       "      <td>1</td>\n",
       "      <td>Ultimate seamlessness. https://t.co/CdCLrg2o6a</td>\n",
       "      <td>2018-10-26 14:24:00</td>\n",
       "      <td>345.0</td>\n",
       "      <td>10.0</td>\n",
       "      <td>0.028986</td>\n",
       "      <td>0.0</td>\n",
       "      <td>0.0</td>\n",
       "      <td>1.0</td>\n",
       "      <td>0.0</td>\n",
       "      <td>9.0</td>\n",
       "      <td>['ultimate', 'seamlessness.', 'https://t.co/cd...</td>\n",
       "    </tr>\n",
       "    <tr>\n",
       "      <th>2</th>\n",
       "      <td>2</td>\n",
       "      <td>Help Nix Prop 6! Save funding for more seamles...</td>\n",
       "      <td>2018-10-26 02:28:00</td>\n",
       "      <td>994.0</td>\n",
       "      <td>19.0</td>\n",
       "      <td>0.019115</td>\n",
       "      <td>4.0</td>\n",
       "      <td>0.0</td>\n",
       "      <td>5.0</td>\n",
       "      <td>3.0</td>\n",
       "      <td>5.0</td>\n",
       "      <td>['help', 'nix', 'prop', 'save', 'funding', 'fo...</td>\n",
       "    </tr>\n",
       "    <tr>\n",
       "      <th>3</th>\n",
       "      <td>3</td>\n",
       "      <td>It doesn't have to be this way! Let's get to f...</td>\n",
       "      <td>2018-10-23 23:29:00</td>\n",
       "      <td>792.0</td>\n",
       "      <td>7.0</td>\n",
       "      <td>0.008838</td>\n",
       "      <td>2.0</td>\n",
       "      <td>0.0</td>\n",
       "      <td>4.0</td>\n",
       "      <td>1.0</td>\n",
       "      <td>0.0</td>\n",
       "      <td>['it', \"doesn't\", 'have', 'to', 'be', 'this', ...</td>\n",
       "    </tr>\n",
       "    <tr>\n",
       "      <th>4</th>\n",
       "      <td>4</td>\n",
       "      <td>And then come say hi at next month’s @SPUR_Urb...</td>\n",
       "      <td>2018-10-23 23:09:00</td>\n",
       "      <td>532.0</td>\n",
       "      <td>3.0</td>\n",
       "      <td>0.005639</td>\n",
       "      <td>0.0</td>\n",
       "      <td>0.0</td>\n",
       "      <td>1.0</td>\n",
       "      <td>2.0</td>\n",
       "      <td>0.0</td>\n",
       "      <td>['and', 'then', 'come', 'say', 'hi', 'at', 'ne...</td>\n",
       "    </tr>\n",
       "  </tbody>\n",
       "</table>\n",
       "</div>"
      ],
      "text/plain": [
       "   Unnamed: 0                                         Tweet text  \\\n",
       "0           0  @MTCBATA is looking for a new Executive Direct...   \n",
       "1           1     Ultimate seamlessness. https://t.co/CdCLrg2o6a   \n",
       "2           2  Help Nix Prop 6! Save funding for more seamles...   \n",
       "3           3  It doesn't have to be this way! Let's get to f...   \n",
       "4           4  And then come say hi at next month’s @SPUR_Urb...   \n",
       "\n",
       "                  time  impressions  engagements  engagement rate  retweets  \\\n",
       "0  2018-10-27 18:01:00        124.0          5.0         0.040323       0.0   \n",
       "1  2018-10-26 14:24:00        345.0         10.0         0.028986       0.0   \n",
       "2  2018-10-26 02:28:00        994.0         19.0         0.019115       4.0   \n",
       "3  2018-10-23 23:29:00        792.0          7.0         0.008838       2.0   \n",
       "4  2018-10-23 23:09:00        532.0          3.0         0.005639       0.0   \n",
       "\n",
       "   replies  likes  user profile clicks  url clicks  \\\n",
       "0      0.0    0.0                  1.0         4.0   \n",
       "1      0.0    1.0                  0.0         9.0   \n",
       "2      0.0    5.0                  3.0         5.0   \n",
       "3      0.0    4.0                  1.0         0.0   \n",
       "4      0.0    1.0                  2.0         0.0   \n",
       "\n",
       "                                         tweet words  \n",
       "0  ['@mtcbata', 'is', 'looking', 'for', 'a', 'new...  \n",
       "1  ['ultimate', 'seamlessness.', 'https://t.co/cd...  \n",
       "2  ['help', 'nix', 'prop', 'save', 'funding', 'fo...  \n",
       "3  ['it', \"doesn't\", 'have', 'to', 'be', 'this', ...  \n",
       "4  ['and', 'then', 'come', 'say', 'hi', 'at', 'ne...  "
      ]
     },
     "execution_count": 11,
     "metadata": {},
     "output_type": "execute_result"
    }
   ],
   "source": [
    "#once again, here is our data for reference\n",
    "df.head()"
   ]
  },
  {
   "cell_type": "markdown",
   "id": "be5044d3",
   "metadata": {},
   "source": [
    "<br>\n",
    "Let's start with the lowest hanging fruit by checking the linear relationship between some easy to engineer features and engagements.\n",
    "<br>\n",
    "<br>"
   ]
  },
  {
   "cell_type": "code",
   "execution_count": 14,
   "id": "ec4499b4",
   "metadata": {},
   "outputs": [],
   "source": [
    "#let's make hour and minute their own columns for the regression\n",
    "#for some inexplicable reason, to_csv reverts datetime objects to strings so it needs to be converted again\n",
    "from datetime import datetime\n",
    "temp = []\n",
    "for x in range(len(df['time'])):\n",
    "    temp.append(datetime.strptime(str(df['time'].iloc[x]), '%Y-%m-%d %H:%M:%S'))\n",
    "df['time'] = temp\n",
    "\n",
    "temp = []\n",
    "for x in df['time']:\n",
    "    temp.append(x.hour)\n",
    "df['hour'] = temp\n",
    "\n",
    "temp = []\n",
    "for x in df['time']:\n",
    "    temp.append(x.minute)\n",
    "df['minute'] = temp"
   ]
  },
  {
   "cell_type": "markdown",
   "id": "41036f5f",
   "metadata": {},
   "source": [
    "<br>\n",
    "Does minute or hour have any linear relationship with engagements?\n",
    "<br>\n",
    "<br>"
   ]
  },
  {
   "cell_type": "code",
   "execution_count": 16,
   "id": "d0de7e31",
   "metadata": {},
   "outputs": [
    {
     "data": {
      "text/plain": [
       "0.0008656056383354871"
      ]
     },
     "execution_count": 16,
     "metadata": {},
     "output_type": "execute_result"
    }
   ],
   "source": [
    "#check the relationship between minute of the hour and engagements\n",
    "model = LinearRegression()\n",
    "a = df['minute'].to_numpy()\n",
    "x = a.reshape(-1, 1)\n",
    "y = df['engagements']\n",
    "model.fit(x,y)\n",
    "r_sq = model.score(x, y)\n",
    "r_sq\n"
   ]
  },
  {
   "cell_type": "markdown",
   "id": "9550ac4f",
   "metadata": {},
   "source": [
    "<br>\n",
    "Well that's pretty bad. Let's check the components of engagements (retweets, likes, user profile clicks, and url clicks to see if they are any better)\n",
    "<br>\n",
    "<br>"
   ]
  },
  {
   "cell_type": "code",
   "execution_count": 96,
   "id": "91a2f4c9",
   "metadata": {},
   "outputs": [
    {
     "name": "stdout",
     "output_type": "stream",
     "text": [
      "0.0018227199865947785\n",
      "8.042008938502487e-05\n",
      "0.001384725052739677\n",
      "0.002011070623837319\n",
      "0.0026260684731778117\n"
     ]
    }
   ],
   "source": [
    "#check the relationship between minute of the hour and engagements\n",
    "model = LinearRegression()\n",
    "a = df['minute'].to_numpy()\n",
    "x = a.reshape(-1, 1)\n",
    "component_cols = df.columns[6:11]\n",
    "for y in component_cols:\n",
    "    z = df[str(y)]\n",
    "    model.fit(x,z)\n",
    "    r_sq = model.score(x, z)\n",
    "    print(r_sq)\n"
   ]
  },
  {
   "cell_type": "markdown",
   "id": "43621555",
   "metadata": {},
   "source": [
    "<br>\n",
    "Not much better. How about for hour?\n",
    "<br>\n",
    "<br>"
   ]
  },
  {
   "cell_type": "code",
   "execution_count": 90,
   "id": "f6fc8cc1",
   "metadata": {},
   "outputs": [
    {
     "data": {
      "text/plain": [
       "7.496145321439496e-05"
      ]
     },
     "execution_count": 90,
     "metadata": {},
     "output_type": "execute_result"
    }
   ],
   "source": [
    "#check the relationship between hour of the day and engagements\n",
    "model = LinearRegression()\n",
    "a = df['hour'].to_numpy()\n",
    "x = a.reshape(-1, 1)\n",
    "y = df['engagements']\n",
    "model.fit(x,y)\n",
    "r_sq = model.score(x, y)\n",
    "r_sq\n"
   ]
  },
  {
   "cell_type": "code",
   "execution_count": 97,
   "id": "54645dcb",
   "metadata": {
    "scrolled": true
   },
   "outputs": [
    {
     "name": "stdout",
     "output_type": "stream",
     "text": [
      "0.000882945640148125\n",
      "4.989128501442508e-06\n",
      "0.00016091964504161282\n",
      "2.2368825847163265e-06\n",
      "0.0002579057132280349\n"
     ]
    }
   ],
   "source": [
    "#check the relationship between minute of the hour and engagements\n",
    "model = LinearRegression()\n",
    "a = df['hour'].to_numpy()\n",
    "x = a.reshape(-1, 1)\n",
    "component_cols = df.columns[6:11]\n",
    "for y in component_cols:\n",
    "    z = df[str(y)]\n",
    "    model.fit(x,z)\n",
    "    r_sq = model.score(x, z)\n",
    "    print(r_sq)"
   ]
  },
  {
   "cell_type": "markdown",
   "id": "54dd9f44",
   "metadata": {},
   "source": [
    "<br>\n",
    "Pretty much as bad as the others. What about tweet length?\n",
    "<br>\n",
    "<br>"
   ]
  },
  {
   "cell_type": "code",
   "execution_count": 107,
   "id": "a1251795",
   "metadata": {},
   "outputs": [
    {
     "name": "stdout",
     "output_type": "stream",
     "text": [
      "0.007410389451631749\n",
      "0.024437843470524023\n",
      "0.0129464531461011\n",
      "0.021177570921540045\n",
      "0.010479325696019504\n",
      "0.005121774293253334\n"
     ]
    }
   ],
   "source": [
    "# AVERAGE NUMBER OF WORDS\n",
    "y = []\n",
    "for x in df['tweet words']:\n",
    "    y.append(len(x))\n",
    "df['tweet length'] = y\n",
    "#check the relationship between hour of the day and engagements\n",
    "model = LinearRegression()\n",
    "a = df['tweet length'].to_numpy()\n",
    "x = a.reshape(-1, 1)\n",
    "y = df['engagements']\n",
    "model.fit(x,y)\n",
    "r_sq = model.score(x, y)\n",
    "print(r_sq)\n",
    "component_cols = df.columns[6:11]\n",
    "for y in component_cols:\n",
    "    z = df[str(y)]\n",
    "    model.fit(x,z)\n",
    "    r_sq = model.score(x, z)\n",
    "    print(r_sq)"
   ]
  },
  {
   "cell_type": "markdown",
   "id": "a53583bc",
   "metadata": {},
   "source": [
    "<br>\n",
    "Well, it's orders of magnitude less awful than datetime, but that's not saying much. Why don't we just see how our main target variable is distributed.\n",
    "<br>\n",
    "<br>"
   ]
  },
  {
   "cell_type": "code",
   "execution_count": 18,
   "id": "d5f7c768",
   "metadata": {},
   "outputs": [
    {
     "data": {
      "text/plain": [
       "202.7709727690056"
      ]
     },
     "execution_count": 18,
     "metadata": {},
     "output_type": "execute_result"
    }
   ],
   "source": [
    "stat.stdev(df['engagements'])"
   ]
  },
  {
   "cell_type": "code",
   "execution_count": 19,
   "id": "e9088e5e",
   "metadata": {},
   "outputs": [
    {
     "data": {
      "text/plain": [
       "41.76567363272566"
      ]
     },
     "execution_count": 19,
     "metadata": {},
     "output_type": "execute_result"
    }
   ],
   "source": [
    "np.mean(df['engagements'])"
   ]
  },
  {
   "cell_type": "code",
   "execution_count": 21,
   "id": "252fc4c2",
   "metadata": {},
   "outputs": [
    {
     "data": {
      "text/plain": [
       "13.0"
      ]
     },
     "execution_count": 21,
     "metadata": {},
     "output_type": "execute_result"
    }
   ],
   "source": [
    "np.median(df['engagements'])"
   ]
  },
  {
   "cell_type": "markdown",
   "id": "b9d3be3b",
   "metadata": {},
   "source": [
    "<br>\n",
    "Alright, the median is considerably lower than the mean which implies that there are some large outliers.\n",
    "<br>\n",
    "<br>"
   ]
  },
  {
   "cell_type": "code",
   "execution_count": 20,
   "id": "9eca78b0",
   "metadata": {},
   "outputs": [
    {
     "data": {
      "text/plain": [
       "6879.0"
      ]
     },
     "execution_count": 20,
     "metadata": {},
     "output_type": "execute_result"
    }
   ],
   "source": [
    "np.max(df['engagements'])"
   ]
  },
  {
   "cell_type": "code",
   "execution_count": 60,
   "id": "c64b56c1",
   "metadata": {
    "scrolled": true
   },
   "outputs": [
    {
     "data": {
      "text/plain": [
       "<AxesSubplot:>"
      ]
     },
     "execution_count": 60,
     "metadata": {},
     "output_type": "execute_result"
    },
    {
     "data": {
      "image/png": "[encoded data removed]",
      "text/plain": [
       "<Figure size 432x288 with 1 Axes>"
      ]
     },
     "metadata": {
      "needs_background": "light"
     },
     "output_type": "display_data"
    }
   ],
   "source": [
    "df['engagements'].hist(bins=20)"
   ]
  },
  {
   "cell_type": "code",
   "execution_count": 42,
   "id": "7d8705b7",
   "metadata": {},
   "outputs": [
    {
     "data": {
      "text/plain": [
       "444"
      ]
     },
     "execution_count": 42,
     "metadata": {},
     "output_type": "execute_result"
    }
   ],
   "source": [
    "temp = []\n",
    "for x in df['engagements']:\n",
    "    if x > 42:\n",
    "        temp.append(x)\n",
    "len(temp)"
   ]
  },
  {
   "cell_type": "markdown",
   "id": "f104d1d0",
   "metadata": {},
   "source": [
    "<br>\n",
    "only 20% of tweets are above the average number of engagements, which is extremely skewed on the low side. How skewed?\n",
    "<br>\n",
    "<br>"
   ]
  },
  {
   "cell_type": "code",
   "execution_count": 111,
   "id": "eb3ff70d",
   "metadata": {},
   "outputs": [
    {
     "data": {
      "text/plain": [
       "24.85900650213547"
      ]
     },
     "execution_count": 111,
     "metadata": {},
     "output_type": "execute_result"
    }
   ],
   "source": [
    "import scipy\n",
    "scipy.stats.skew(df['engagements'])"
   ]
  },
  {
   "cell_type": "markdown",
   "id": "4084fb2f",
   "metadata": {},
   "source": [
    "<br>\n",
    "oof. That's not great. But it does mean that there are some extreme outliers we can look at that might tell us something about what identifies a very successful tweet.\n",
    "<br>\n",
    "<br>"
   ]
  },
  {
   "cell_type": "code",
   "execution_count": 10,
   "id": "194640b1",
   "metadata": {},
   "outputs": [
    {
     "data": {
      "text/plain": [
       "Index(['Unnamed: 0', 'Tweet text', 'time', 'impressions', 'engagements',\n",
       "       'engagement rate', 'retweets', 'replies', 'likes',\n",
       "       'user profile clicks', 'url clicks', 'tweet words'],\n",
       "      dtype='object')"
      ]
     },
     "execution_count": 10,
     "metadata": {},
     "output_type": "execute_result"
    }
   ],
   "source": [
    "df.columns"
   ]
  },
  {
   "cell_type": "code",
   "execution_count": 36,
   "id": "3fdbca5d",
   "metadata": {},
   "outputs": [
    {
     "data": {
      "text/html": [
       "<div>\n",
       "<style scoped>\n",
       "    .dataframe tbody tr th:only-of-type {\n",
       "        vertical-align: middle;\n",
       "    }\n",
       "\n",
       "    .dataframe tbody tr th {\n",
       "        vertical-align: top;\n",
       "    }\n",
       "\n",
       "    .dataframe thead th {\n",
       "        text-align: right;\n",
       "    }\n",
       "</style>\n",
       "<table border=\"1\" class=\"dataframe\">\n",
       "  <thead>\n",
       "    <tr style=\"text-align: right;\">\n",
       "      <th></th>\n",
       "      <th>Unnamed: 0</th>\n",
       "      <th>Tweet text</th>\n",
       "      <th>time</th>\n",
       "      <th>impressions</th>\n",
       "      <th>engagements</th>\n",
       "      <th>engagement rate</th>\n",
       "      <th>retweets</th>\n",
       "      <th>replies</th>\n",
       "      <th>likes</th>\n",
       "      <th>user profile clicks</th>\n",
       "      <th>url clicks</th>\n",
       "      <th>tweet words</th>\n",
       "    </tr>\n",
       "  </thead>\n",
       "  <tbody>\n",
       "    <tr>\n",
       "      <th>462</th>\n",
       "      <td>28</td>\n",
       "      <td>@SomeKindaSoc @sfcta @christofspieler @SFTRU Y...</td>\n",
       "      <td>2021-09-21 23:12:00</td>\n",
       "      <td>58.0</td>\n",
       "      <td>0.0</td>\n",
       "      <td>0.000000</td>\n",
       "      <td>0.0</td>\n",
       "      <td>0.0</td>\n",
       "      <td>0.0</td>\n",
       "      <td>0.0</td>\n",
       "      <td>0.0</td>\n",
       "      <td>['@somekindasoc', '@sfcta', '@christofspieler'...</td>\n",
       "    </tr>\n",
       "    <tr>\n",
       "      <th>1607</th>\n",
       "      <td>15</td>\n",
       "      <td>@Shaqapopolis Join by Telephone: 888 788 0099 ...</td>\n",
       "      <td>2021-07-26 20:23:00</td>\n",
       "      <td>14.0</td>\n",
       "      <td>0.0</td>\n",
       "      <td>0.000000</td>\n",
       "      <td>0.0</td>\n",
       "      <td>0.0</td>\n",
       "      <td>0.0</td>\n",
       "      <td>0.0</td>\n",
       "      <td>0.0</td>\n",
       "      <td>['@shaqapopolis', 'join', 'by', 'telephone:', ...</td>\n",
       "    </tr>\n",
       "    <tr>\n",
       "      <th>645</th>\n",
       "      <td>38</td>\n",
       "      <td>@MosesMaynez @SFBART @transitsupply If you don...</td>\n",
       "      <td>2019-12-04 17:22:00</td>\n",
       "      <td>118.0</td>\n",
       "      <td>0.0</td>\n",
       "      <td>0.000000</td>\n",
       "      <td>0.0</td>\n",
       "      <td>0.0</td>\n",
       "      <td>0.0</td>\n",
       "      <td>0.0</td>\n",
       "      <td>0.0</td>\n",
       "      <td>['@mosesmaynez', '@sfbart', '@transitsupply', ...</td>\n",
       "    </tr>\n",
       "    <tr>\n",
       "      <th>1329</th>\n",
       "      <td>52</td>\n",
       "      <td>An important read on reimagining public transi...</td>\n",
       "      <td>2022-02-09 20:23:00</td>\n",
       "      <td>385.0</td>\n",
       "      <td>0.0</td>\n",
       "      <td>0.000000</td>\n",
       "      <td>0.0</td>\n",
       "      <td>0.0</td>\n",
       "      <td>0.0</td>\n",
       "      <td>0.0</td>\n",
       "      <td>0.0</td>\n",
       "      <td>['an', 'important', 'read', 'on', 'reimagining...</td>\n",
       "    </tr>\n",
       "    <tr>\n",
       "      <th>644</th>\n",
       "      <td>37</td>\n",
       "      <td>@duncank Thanks for your support! 🙏🚆🚍</td>\n",
       "      <td>2019-12-04 17:35:00</td>\n",
       "      <td>72.0</td>\n",
       "      <td>0.0</td>\n",
       "      <td>0.000000</td>\n",
       "      <td>0.0</td>\n",
       "      <td>0.0</td>\n",
       "      <td>0.0</td>\n",
       "      <td>0.0</td>\n",
       "      <td>0.0</td>\n",
       "      <td>['@duncank', 'thanks', 'for', 'your', 'support!']</td>\n",
       "    </tr>\n",
       "    <tr>\n",
       "      <th>...</th>\n",
       "      <td>...</td>\n",
       "      <td>...</td>\n",
       "      <td>...</td>\n",
       "      <td>...</td>\n",
       "      <td>...</td>\n",
       "      <td>...</td>\n",
       "      <td>...</td>\n",
       "      <td>...</td>\n",
       "      <td>...</td>\n",
       "      <td>...</td>\n",
       "      <td>...</td>\n",
       "      <td>...</td>\n",
       "    </tr>\n",
       "    <tr>\n",
       "      <th>676</th>\n",
       "      <td>20</td>\n",
       "      <td>@r_mohtashemi @Millenniold_ @manitov @jcb10 @a...</td>\n",
       "      <td>2022-07-03 00:35:00</td>\n",
       "      <td>87.0</td>\n",
       "      <td>17.0</td>\n",
       "      <td>0.195402</td>\n",
       "      <td>0.0</td>\n",
       "      <td>0.0</td>\n",
       "      <td>3.0</td>\n",
       "      <td>1.0</td>\n",
       "      <td>0.0</td>\n",
       "      <td>['@r_mohtashemi', '@millenniold_', '@manitov',...</td>\n",
       "    </tr>\n",
       "    <tr>\n",
       "      <th>1073</th>\n",
       "      <td>35</td>\n",
       "      <td>@SFBayFerry @511SFBay We heard back from @511S...</td>\n",
       "      <td>2022-04-07 13:49:00</td>\n",
       "      <td>71.0</td>\n",
       "      <td>14.0</td>\n",
       "      <td>0.197183</td>\n",
       "      <td>2.0</td>\n",
       "      <td>0.0</td>\n",
       "      <td>3.0</td>\n",
       "      <td>1.0</td>\n",
       "      <td>0.0</td>\n",
       "      <td>['@sfbayferry', '@511sfbay', 'we', 'heard', 'b...</td>\n",
       "    </tr>\n",
       "    <tr>\n",
       "      <th>963</th>\n",
       "      <td>21</td>\n",
       "      <td>@sheeter @theGreaterMarin @transitmap @MTCBATA...</td>\n",
       "      <td>2019-08-21 17:37:00</td>\n",
       "      <td>1117.0</td>\n",
       "      <td>234.0</td>\n",
       "      <td>0.209490</td>\n",
       "      <td>2.0</td>\n",
       "      <td>1.0</td>\n",
       "      <td>6.0</td>\n",
       "      <td>11.0</td>\n",
       "      <td>63.0</td>\n",
       "      <td>['@sheeter', '@thegreatermarin', '@transitmap'...</td>\n",
       "    </tr>\n",
       "    <tr>\n",
       "      <th>1064</th>\n",
       "      <td>26</td>\n",
       "      <td>@shanand @urbanlifesigns @alex_hallowell @urbe...</td>\n",
       "      <td>2022-04-13 23:04:00</td>\n",
       "      <td>87.0</td>\n",
       "      <td>22.0</td>\n",
       "      <td>0.252874</td>\n",
       "      <td>0.0</td>\n",
       "      <td>1.0</td>\n",
       "      <td>3.0</td>\n",
       "      <td>1.0</td>\n",
       "      <td>9.0</td>\n",
       "      <td>['@shanand', '@urbanlifesigns', '@alex_hallowe...</td>\n",
       "    </tr>\n",
       "    <tr>\n",
       "      <th>1074</th>\n",
       "      <td>36</td>\n",
       "      <td>@SamwiseSF Aww, thank you for the kind words! ...</td>\n",
       "      <td>2022-04-06 16:11:00</td>\n",
       "      <td>20.0</td>\n",
       "      <td>8.0</td>\n",
       "      <td>0.400000</td>\n",
       "      <td>0.0</td>\n",
       "      <td>0.0</td>\n",
       "      <td>1.0</td>\n",
       "      <td>1.0</td>\n",
       "      <td>0.0</td>\n",
       "      <td>['@samwisesf', 'aww,', 'thank', 'you', 'for', ...</td>\n",
       "    </tr>\n",
       "  </tbody>\n",
       "</table>\n",
       "<p>2249 rows × 12 columns</p>\n",
       "</div>"
      ],
      "text/plain": [
       "      Unnamed: 0                                         Tweet text  \\\n",
       "462           28  @SomeKindaSoc @sfcta @christofspieler @SFTRU Y...   \n",
       "1607          15  @Shaqapopolis Join by Telephone: 888 788 0099 ...   \n",
       "645           38  @MosesMaynez @SFBART @transitsupply If you don...   \n",
       "1329          52  An important read on reimagining public transi...   \n",
       "644           37              @duncank Thanks for your support! 🙏🚆🚍   \n",
       "...          ...                                                ...   \n",
       "676           20  @r_mohtashemi @Millenniold_ @manitov @jcb10 @a...   \n",
       "1073          35  @SFBayFerry @511SFBay We heard back from @511S...   \n",
       "963           21  @sheeter @theGreaterMarin @transitmap @MTCBATA...   \n",
       "1064          26  @shanand @urbanlifesigns @alex_hallowell @urbe...   \n",
       "1074          36  @SamwiseSF Aww, thank you for the kind words! ...   \n",
       "\n",
       "                     time  impressions  engagements  engagement rate  \\\n",
       "462   2021-09-21 23:12:00         58.0          0.0         0.000000   \n",
       "1607  2021-07-26 20:23:00         14.0          0.0         0.000000   \n",
       "645   2019-12-04 17:22:00        118.0          0.0         0.000000   \n",
       "1329  2022-02-09 20:23:00        385.0          0.0         0.000000   \n",
       "644   2019-12-04 17:35:00         72.0          0.0         0.000000   \n",
       "...                   ...          ...          ...              ...   \n",
       "676   2022-07-03 00:35:00         87.0         17.0         0.195402   \n",
       "1073  2022-04-07 13:49:00         71.0         14.0         0.197183   \n",
       "963   2019-08-21 17:37:00       1117.0        234.0         0.209490   \n",
       "1064  2022-04-13 23:04:00         87.0         22.0         0.252874   \n",
       "1074  2022-04-06 16:11:00         20.0          8.0         0.400000   \n",
       "\n",
       "      retweets  replies  likes  user profile clicks  url clicks  \\\n",
       "462        0.0      0.0    0.0                  0.0         0.0   \n",
       "1607       0.0      0.0    0.0                  0.0         0.0   \n",
       "645        0.0      0.0    0.0                  0.0         0.0   \n",
       "1329       0.0      0.0    0.0                  0.0         0.0   \n",
       "644        0.0      0.0    0.0                  0.0         0.0   \n",
       "...        ...      ...    ...                  ...         ...   \n",
       "676        0.0      0.0    3.0                  1.0         0.0   \n",
       "1073       2.0      0.0    3.0                  1.0         0.0   \n",
       "963        2.0      1.0    6.0                 11.0        63.0   \n",
       "1064       0.0      1.0    3.0                  1.0         9.0   \n",
       "1074       0.0      0.0    1.0                  1.0         0.0   \n",
       "\n",
       "                                            tweet words  \n",
       "462   ['@somekindasoc', '@sfcta', '@christofspieler'...  \n",
       "1607  ['@shaqapopolis', 'join', 'by', 'telephone:', ...  \n",
       "645   ['@mosesmaynez', '@sfbart', '@transitsupply', ...  \n",
       "1329  ['an', 'important', 'read', 'on', 'reimagining...  \n",
       "644   ['@duncank', 'thanks', 'for', 'your', 'support!']  \n",
       "...                                                 ...  \n",
       "676   ['@r_mohtashemi', '@millenniold_', '@manitov',...  \n",
       "1073  ['@sfbayferry', '@511sfbay', 'we', 'heard', 'b...  \n",
       "963   ['@sheeter', '@thegreatermarin', '@transitmap'...  \n",
       "1064  ['@shanand', '@urbanlifesigns', '@alex_hallowe...  \n",
       "1074  ['@samwisesf', 'aww,', 'thank', 'you', 'for', ...  \n",
       "\n",
       "[2249 rows x 12 columns]"
      ]
     },
     "execution_count": 36,
     "metadata": {},
     "output_type": "execute_result"
    }
   ],
   "source": [
    "sort = df.sort_values(by=['engagement rate'])\n",
    "sort"
   ]
  },
  {
   "cell_type": "code",
   "execution_count": 38,
   "id": "36523e2e",
   "metadata": {
    "scrolled": false
   },
   "outputs": [
    {
     "name": "stdout",
     "output_type": "stream",
     "text": [
      "@SomeKindaSoc @sfcta @christofspieler @SFTRU Yes, the recording will be shared with everyone who RSVP'd (and posted on our website).\n",
      " \n",
      "@Shaqapopolis Join by Telephone: 888 788 0099 (Toll Free) or 877 853 5247 (Toll Free) Webinar ID: 852 1485 5796\n",
      " \n",
      "@MosesMaynez @SFBART @transitsupply If you don’t want any swag, you can just write a note when you submit your donation saying you’d don’t want any.\n",
      " \n",
      "An important read on reimagining public transit for people and the climate. Good to see the @WorldResources Institute recognizing governance reforms as essential to increasing transit use. https://t.co/1A3d2WFwtV\n",
      " \n",
      "@duncank Thanks for your support! 🙏🚆🚍\n",
      " \n",
      "@JaceDeloney yes! t-shirt design thoughts welcome, too! 👕🚉🚍🚇\n",
      " \n",
      "Abe-Koga - what brought the GMs to bring this forward now, and what induced the GMs to come up with this \"preferred alternative\"\n",
      " \n",
      "@jarichmond Thanks so much!\n",
      " \n",
      "@blinktaginc You're awesome!\n",
      " \n",
      "Reminder: Tweet a Bay Area transit inspired poem by midnight tonight and tag @seamlessbayarea. Tomorrow we'll share all submissions, and the author of the poem with the most ♥️s will win a limited edition Seamless @transitsupply shirt! https://t.co/YE36RSZteO\n",
      " \n",
      "@ecosmiley We love to hear it 👏✨\n",
      " \n",
      "You can also read our comment letter:  https://t.co/w9TjpbAB4s\n",
      "\n",
      "For more info, please DM us!\n",
      " \n",
      "@clem_tillier @CarlGuardino Yes, good point!\n",
      " \n",
      "@pittmaniacal Of course!\n",
      " \n",
      "@anothercohen @alevin We hear you Alex. Fare inequity issues like what you described is why we exist. #onetransposystem\n",
      " \n",
      "\"Infrastructure is not, and never has been, simply a collection of material objects. The secret of the country’s infrastructure success lies in a forgotten political history: the demands by millions of Americans over time for fairer and more equitable access.\" https://t.co/9PyYOQXNt0\n",
      " \n",
      "@fabienne_meijer @StanfordJourn And if easier, feel free to email us: info [at] seamlessbayarea [dot] org\n",
      " \n",
      "@derivativeburke @alevin Makes sense.\n",
      " \n",
      "Can Transit Policy Save us From the Housing Crisis? https://t.co/R4Lh2bHfBK\n",
      " \n",
      "@dmaltzan Thank you so much! 🙏🚉🚍\n",
      " \n"
     ]
    }
   ],
   "source": [
    "#sort by high engagement\n",
    "for x in sort['Tweet text'][0:20]:\n",
    "    print(x)\n",
    "    print(' ')"
   ]
  },
  {
   "cell_type": "markdown",
   "id": "fc475c2f",
   "metadata": {},
   "source": [
    "Hmm, highest engagement rate tweets seem to mostly be congratulations and thanks to other accounts. Maybe we should look at absolute engagement instead.\n",
    "<br>\n",
    "<br>"
   ]
  },
  {
   "cell_type": "code",
   "execution_count": 39,
   "id": "56eb2593",
   "metadata": {},
   "outputs": [
    {
     "name": "stdout",
     "output_type": "stream",
     "text": [
      "Can Transit Policy Save us From the Housing Crisis? https://t.co/R4Lh2bHfBK\n",
      " \n",
      "@pittmaniacal Of course!\n",
      " \n",
      "'Tis the season ... for the chaos of holiday travel! Wishing you all safe journeys and seamless connections, however you're planning to get to your destination 🚉🚇🚍🚲✈️\n",
      "\n",
      "https://t.co/l3ItL4lhx3\n",
      " \n",
      "@gorkermann @SFBayFerry Who is managing partner at Wilson Meany so is likely not the person taking customer service requests. https://t.co/98LSSXfEP9\n",
      " \n",
      "4. Donate to Seamless Bay Area. If you are in a position to do so, your contributions will help us keep building on this momentum toward a seamless transit system. Thank you!! https://t.co/iBXbz6dKPF\n",
      " \n",
      "@ecosmiley We love to hear it 👏✨\n",
      " \n",
      "@marcus_ismael please come by!\n",
      " \n",
      "@derivativeburke @alevin Makes sense.\n",
      " \n",
      "@JaceDeloney yes! t-shirt design thoughts welcome, too! 👕🚉🚍🚇\n",
      " \n",
      "@blinktaginc You're awesome!\n",
      " \n",
      "You can also read our comment letter:  https://t.co/w9TjpbAB4s\n",
      "\n",
      "For more info, please DM us!\n",
      " \n",
      "@SomeKindaSoc @sfcta @christofspieler @SFTRU Yes, the recording will be shared with everyone who RSVP'd (and posted on our website).\n",
      " \n",
      "🗣️ Su voz en este foro informará a legisladores, profesionales del tránsito, y promotores sobre las dificultades de viajar en tránsito, y formará las bases para un servicio más equitativo en el futuro para aquellos que más lo necesitan.\n",
      " \n",
      "@dmaltzan Thank you so much! 🙏🚉🚍\n",
      " \n",
      "@duncank Thanks for your support! 🙏🚆🚍\n",
      " \n",
      "@MosesMaynez @SFBART @transitsupply If you don’t want any swag, you can just write a note when you submit your donation saying you’d don’t want any.\n",
      " \n",
      "An important read on reimagining public transit for people and the climate. Good to see the @WorldResources Institute recognizing governance reforms as essential to increasing transit use. https://t.co/1A3d2WFwtV\n",
      " \n",
      "Riders will be announced at the ✨Rider First Awards✨ party on October 1st - a real live party with humans and everything!  Brought to you by @SFTRU @TransitRidersEB and us!  https://t.co/xRLDa51iIa\n",
      "\n",
      "Details coming soon about the party - but get those nominations in!\n",
      " \n",
      "\"Infrastructure is not, and never has been, simply a collection of material objects. The secret of the country’s infrastructure success lies in a forgotten political history: the demands by millions of Americans over time for fairer and more equitable access.\" https://t.co/9PyYOQXNt0\n",
      " \n",
      "@xentrans @Theysaurus @SFTRU 😂😂 Thanks for your support @xentrans!\n",
      " \n"
     ]
    }
   ],
   "source": [
    "sort = df.sort_values(by=['engagements'])\n",
    "#sort by high engagement\n",
    "for x in sort['Tweet text'][0:20]:\n",
    "    print(x)\n",
    "    print(' ')"
   ]
  },
  {
   "cell_type": "markdown",
   "id": "7bf829dc",
   "metadata": {},
   "source": [
    "<br>\n",
    "Finally! We have something interesting. The top 20 tweets all have several things in common just from a visual inspection. Nearly all feature original videos, pictures, and especially maps (the top 3 all have maps). Several have some kind of calls to action (polls, upcoming bills, or crowdfunding). We can definitely explore this in the next notebook.\n",
    "<br>\n",
    "<br>\n",
    "I'm curious as to whether some features of engagement might be varying more significantly than other. To find out, I normalized each of the columns via maximum absolute scaling so that each value is between -1 and 1 to make direct comparison more legible.\n",
    "<br>\n",
    "<br>"
   ]
  },
  {
   "cell_type": "code",
   "execution_count": 150,
   "id": "b3fb2dd5",
   "metadata": {},
   "outputs": [
    {
     "data": {
      "text/plain": [
       "0.07695686008030066"
      ]
     },
     "execution_count": 150,
     "metadata": {},
     "output_type": "execute_result"
    }
   ],
   "source": [
    "stat.stdev(hi_value['retweets'] /hi_value['retweets'].abs().max())"
   ]
  },
  {
   "cell_type": "code",
   "execution_count": 155,
   "id": "c91700a0",
   "metadata": {},
   "outputs": [
    {
     "data": {
      "text/plain": [
       "0.08795445125564791"
      ]
     },
     "execution_count": 155,
     "metadata": {},
     "output_type": "execute_result"
    }
   ],
   "source": [
    "stat.stdev(hi_value['likes'] /hi_value['likes'].abs().max())"
   ]
  },
  {
   "cell_type": "code",
   "execution_count": 152,
   "id": "98abbd69",
   "metadata": {},
   "outputs": [
    {
     "data": {
      "text/plain": [
       "0.10573012605634688"
      ]
     },
     "execution_count": 152,
     "metadata": {},
     "output_type": "execute_result"
    }
   ],
   "source": [
    "stat.stdev(hi_value['replies'] /hi_value['replies'].abs().max())"
   ]
  },
  {
   "cell_type": "code",
   "execution_count": 153,
   "id": "f10df4c9",
   "metadata": {},
   "outputs": [
    {
     "data": {
      "text/plain": [
       "0.07216321519924375"
      ]
     },
     "execution_count": 153,
     "metadata": {},
     "output_type": "execute_result"
    }
   ],
   "source": [
    "stat.stdev(hi_value['user profile clicks'] /hi_value['user profile clicks'].abs().max())"
   ]
  },
  {
   "cell_type": "code",
   "execution_count": 154,
   "id": "6db30ab2",
   "metadata": {},
   "outputs": [
    {
     "data": {
      "text/plain": [
       "0.06923034964668809"
      ]
     },
     "execution_count": 154,
     "metadata": {},
     "output_type": "execute_result"
    }
   ],
   "source": [
    "stat.stdev(hi_value['url clicks'] /hi_value['url clicks'].abs().max())"
   ]
  },
  {
   "cell_type": "markdown",
   "id": "d649482b",
   "metadata": {},
   "source": [
    "<br>\n",
    "Darn, the standard deviations are pretty close to each other, not much to take away from that.\n",
    "<br>\n",
    "<br>"
   ]
  },
  {
   "cell_type": "markdown",
   "id": "e9b1ed51",
   "metadata": {},
   "source": [
    "#### Summary\n",
    "<br>\n",
    "Overall results were a little dissapointing here. Our target variable (engagement) was pretty skewed, and its distribution didn't change very much between high and low value tweets. We created some simple baseline linear regressions with easy to engineer features like time tweeted or length of tweet, but none had a strong relationship with engagement.\n",
    "<br>\n",
    "<br>\n",
    "Something we DID learn is that many of the highest value tweets included maps, and several have specific and immediate calls to action.\n",
    "<br>\n",
    "<br>\n",
    "In the next step of the project, pre-processing, I'm going to perform some more feature engineering and extract, at the very least, links, @replies, hashtags, and sentiment score from the tweets to prepare for modeling.\n",
    "<br>\n",
    "<br>"
   ]
  },
  {
   "cell_type": "code",
   "execution_count": null,
   "id": "164736dc",
   "metadata": {},
   "outputs": [],
   "source": [
    "df.to_csv('/Users/grahamsmith/Documents/SpringboardWork/Seamless_Twitter_Analysis/cleaned tweets.csv', date_format='%Y-%m-%d %H:%M:%S')"
   ]
  }
 ],
 "metadata": {
  "kernelspec": {
   "display_name": "Python 3 (ipykernel)",
   "language": "python",
   "name": "python3"
  },
  "language_info": {
   "codemirror_mode": {
    "name": "ipython",
    "version": 3
   },
   "file_extension": ".py",
   "mimetype": "text/x-python",
   "name": "python",
   "nbconvert_exporter": "python",
   "pygments_lexer": "ipython3",
   "version": "3.8.8"
  }
 },
 "nbformat": 4,
 "nbformat_minor": 5
}
