{
 "cells": [
  {
   "cell_type": "markdown",
   "id": "e4f96164",
   "metadata": {},
   "source": [
    "### Seamless Bay Area Tweet Analysis: Part 1, Data Wrangling\n",
    "\n",
    "\n",
    "The goal of this project is to analyze the twitter account of the nonprofit group Seamless Bay Area and determine what makes up the most high-impact tweet as measured by engagements.\n",
    "\n",
    "In part one we wrangle/munge the data to get it into a useable form for EDA."
   ]
  },
  {
   "cell_type": "code",
   "execution_count": 1,
   "id": "5002dbb8",
   "metadata": {},
   "outputs": [],
   "source": [
    "# Load necessary libraries\n",
    "import pandas as pd\n",
    "import numpy as np\n",
    "import statistics as stat\n",
    "import re\n",
    "from sklearn import linear_model\n",
    "from sklearn.linear_model import LinearRegression\n",
    "import os"
   ]
  },
  {
   "cell_type": "markdown",
   "id": "4cbd55f4",
   "metadata": {},
   "source": [
    "I manually downloaded the data from twitter, in the form of 48 seperate CSV's (one for each month covered) and put them in a single folder. First, let's get a list of all the files."
   ]
  },
  {
   "cell_type": "code",
   "execution_count": 36,
   "id": "b1897af3",
   "metadata": {},
   "outputs": [],
   "source": [
    "labels = os.listdir('/Users/grahamsmith/Documents/SpringboardWork/Seamless_Twitter_Analysis/tweets')"
   ]
  },
  {
   "cell_type": "markdown",
   "id": "344be3be",
   "metadata": {},
   "source": [
    "After removing hidden files, we loop through all the filenames and append them into a single dataframe. There are only ~2200 tweets, so a more memory efficient data structure isn't necessary."
   ]
  },
  {
   "cell_type": "code",
   "execution_count": 49,
   "id": "d4188e53",
   "metadata": {},
   "outputs": [],
   "source": [
    "#remove hidden files\n",
    "temp = []\n",
    "for x in labels:\n",
    "    if x != '.DS_Store':\n",
    "        temp.append(x)\n",
    "labels = temp\n",
    "\n",
    "#each month of tweets is in a seperate .csv, so we combine them together\n",
    "csvs = []\n",
    "for x in labels:\n",
    "   csvs.append(pd.read_csv('/Users/grahamsmith/Documents/SpringboardWork/Seamless_Twitter_Analysis/tweets/' + x ))\n",
    "df = pd.concat(csvs)"
   ]
  },
  {
   "cell_type": "markdown",
   "id": "c15e4ab7",
   "metadata": {},
   "source": [
    "Let's take a look at the data to see what we've got."
   ]
  },
  {
   "cell_type": "code",
   "execution_count": 50,
   "id": "3026d7c8",
   "metadata": {
    "scrolled": true
   },
   "outputs": [
    {
     "data": {
      "text/html": [
       "<div>\n",
       "<style scoped>\n",
       "    .dataframe tbody tr th:only-of-type {\n",
       "        vertical-align: middle;\n",
       "    }\n",
       "\n",
       "    .dataframe tbody tr th {\n",
       "        vertical-align: top;\n",
       "    }\n",
       "\n",
       "    .dataframe thead th {\n",
       "        text-align: right;\n",
       "    }\n",
       "</style>\n",
       "<table border=\"1\" class=\"dataframe\">\n",
       "  <thead>\n",
       "    <tr style=\"text-align: right;\">\n",
       "      <th></th>\n",
       "      <th>Tweet id</th>\n",
       "      <th>Tweet permalink</th>\n",
       "      <th>Tweet text</th>\n",
       "      <th>time</th>\n",
       "      <th>impressions</th>\n",
       "      <th>engagements</th>\n",
       "      <th>engagement rate</th>\n",
       "      <th>retweets</th>\n",
       "      <th>replies</th>\n",
       "      <th>likes</th>\n",
       "      <th>...</th>\n",
       "      <th>promoted hashtag clicks</th>\n",
       "      <th>promoted detail expands</th>\n",
       "      <th>promoted permalink clicks</th>\n",
       "      <th>promoted app opens</th>\n",
       "      <th>promoted app installs</th>\n",
       "      <th>promoted follows</th>\n",
       "      <th>promoted email tweet</th>\n",
       "      <th>promoted dial phone</th>\n",
       "      <th>promoted media views</th>\n",
       "      <th>promoted media engagements</th>\n",
       "    </tr>\n",
       "  </thead>\n",
       "  <tbody>\n",
       "    <tr>\n",
       "      <th>0</th>\n",
       "      <td>1056244576426516480</td>\n",
       "      <td>https://twitter.com/seamlessbayarea/status/105...</td>\n",
       "      <td>@MTCBATA is looking for a new Executive Direct...</td>\n",
       "      <td>2018-10-27 18:01 +0000</td>\n",
       "      <td>124.0</td>\n",
       "      <td>5.0</td>\n",
       "      <td>0.040323</td>\n",
       "      <td>0.0</td>\n",
       "      <td>0.0</td>\n",
       "      <td>0.0</td>\n",
       "      <td>...</td>\n",
       "      <td>-</td>\n",
       "      <td>-</td>\n",
       "      <td>-</td>\n",
       "      <td>-</td>\n",
       "      <td>-</td>\n",
       "      <td>-</td>\n",
       "      <td>-</td>\n",
       "      <td>-</td>\n",
       "      <td>-</td>\n",
       "      <td>-</td>\n",
       "    </tr>\n",
       "    <tr>\n",
       "      <th>1</th>\n",
       "      <td>1055827476406927360</td>\n",
       "      <td>https://twitter.com/seamlessbayarea/status/105...</td>\n",
       "      <td>Ultimate seamlessness. https://t.co/CdCLrg2o6a</td>\n",
       "      <td>2018-10-26 14:24 +0000</td>\n",
       "      <td>345.0</td>\n",
       "      <td>10.0</td>\n",
       "      <td>0.028986</td>\n",
       "      <td>0.0</td>\n",
       "      <td>0.0</td>\n",
       "      <td>1.0</td>\n",
       "      <td>...</td>\n",
       "      <td>-</td>\n",
       "      <td>-</td>\n",
       "      <td>-</td>\n",
       "      <td>-</td>\n",
       "      <td>-</td>\n",
       "      <td>-</td>\n",
       "      <td>-</td>\n",
       "      <td>-</td>\n",
       "      <td>-</td>\n",
       "      <td>-</td>\n",
       "    </tr>\n",
       "    <tr>\n",
       "      <th>2</th>\n",
       "      <td>1055647302742814720</td>\n",
       "      <td>https://twitter.com/seamlessbayarea/status/105...</td>\n",
       "      <td>Help Nix Prop 6! Save funding for more seamles...</td>\n",
       "      <td>2018-10-26 02:28 +0000</td>\n",
       "      <td>994.0</td>\n",
       "      <td>19.0</td>\n",
       "      <td>0.019115</td>\n",
       "      <td>4.0</td>\n",
       "      <td>0.0</td>\n",
       "      <td>5.0</td>\n",
       "      <td>...</td>\n",
       "      <td>-</td>\n",
       "      <td>-</td>\n",
       "      <td>-</td>\n",
       "      <td>-</td>\n",
       "      <td>-</td>\n",
       "      <td>-</td>\n",
       "      <td>-</td>\n",
       "      <td>-</td>\n",
       "      <td>-</td>\n",
       "      <td>-</td>\n",
       "    </tr>\n",
       "    <tr>\n",
       "      <th>3</th>\n",
       "      <td>1054877583471390720</td>\n",
       "      <td>https://twitter.com/seamlessbayarea/status/105...</td>\n",
       "      <td>It doesn't have to be this way! Let's get to f...</td>\n",
       "      <td>2018-10-23 23:29 +0000</td>\n",
       "      <td>792.0</td>\n",
       "      <td>7.0</td>\n",
       "      <td>0.008838</td>\n",
       "      <td>2.0</td>\n",
       "      <td>0.0</td>\n",
       "      <td>4.0</td>\n",
       "      <td>...</td>\n",
       "      <td>-</td>\n",
       "      <td>-</td>\n",
       "      <td>-</td>\n",
       "      <td>-</td>\n",
       "      <td>-</td>\n",
       "      <td>-</td>\n",
       "      <td>-</td>\n",
       "      <td>-</td>\n",
       "      <td>-</td>\n",
       "      <td>-</td>\n",
       "    </tr>\n",
       "    <tr>\n",
       "      <th>4</th>\n",
       "      <td>1054872404407726080</td>\n",
       "      <td>https://twitter.com/seamlessbayarea/status/105...</td>\n",
       "      <td>And then come say hi at next month’s @SPUR_Urb...</td>\n",
       "      <td>2018-10-23 23:09 +0000</td>\n",
       "      <td>532.0</td>\n",
       "      <td>3.0</td>\n",
       "      <td>0.005639</td>\n",
       "      <td>0.0</td>\n",
       "      <td>0.0</td>\n",
       "      <td>1.0</td>\n",
       "      <td>...</td>\n",
       "      <td>-</td>\n",
       "      <td>-</td>\n",
       "      <td>-</td>\n",
       "      <td>-</td>\n",
       "      <td>-</td>\n",
       "      <td>-</td>\n",
       "      <td>-</td>\n",
       "      <td>-</td>\n",
       "      <td>-</td>\n",
       "      <td>-</td>\n",
       "    </tr>\n",
       "  </tbody>\n",
       "</table>\n",
       "<p>5 rows × 40 columns</p>\n",
       "</div>"
      ],
      "text/plain": [
       "              Tweet id                                    Tweet permalink  \\\n",
       "0  1056244576426516480  https://twitter.com/seamlessbayarea/status/105...   \n",
       "1  1055827476406927360  https://twitter.com/seamlessbayarea/status/105...   \n",
       "2  1055647302742814720  https://twitter.com/seamlessbayarea/status/105...   \n",
       "3  1054877583471390720  https://twitter.com/seamlessbayarea/status/105...   \n",
       "4  1054872404407726080  https://twitter.com/seamlessbayarea/status/105...   \n",
       "\n",
       "                                          Tweet text                    time  \\\n",
       "0  @MTCBATA is looking for a new Executive Direct...  2018-10-27 18:01 +0000   \n",
       "1     Ultimate seamlessness. https://t.co/CdCLrg2o6a  2018-10-26 14:24 +0000   \n",
       "2  Help Nix Prop 6! Save funding for more seamles...  2018-10-26 02:28 +0000   \n",
       "3  It doesn't have to be this way! Let's get to f...  2018-10-23 23:29 +0000   \n",
       "4  And then come say hi at next month’s @SPUR_Urb...  2018-10-23 23:09 +0000   \n",
       "\n",
       "   impressions  engagements  engagement rate  retweets  replies  likes  ...  \\\n",
       "0        124.0          5.0         0.040323       0.0      0.0    0.0  ...   \n",
       "1        345.0         10.0         0.028986       0.0      0.0    1.0  ...   \n",
       "2        994.0         19.0         0.019115       4.0      0.0    5.0  ...   \n",
       "3        792.0          7.0         0.008838       2.0      0.0    4.0  ...   \n",
       "4        532.0          3.0         0.005639       0.0      0.0    1.0  ...   \n",
       "\n",
       "   promoted hashtag clicks  promoted detail expands  \\\n",
       "0                        -                        -   \n",
       "1                        -                        -   \n",
       "2                        -                        -   \n",
       "3                        -                        -   \n",
       "4                        -                        -   \n",
       "\n",
       "   promoted permalink clicks  promoted app opens  promoted app installs  \\\n",
       "0                          -                   -                      -   \n",
       "1                          -                   -                      -   \n",
       "2                          -                   -                      -   \n",
       "3                          -                   -                      -   \n",
       "4                          -                   -                      -   \n",
       "\n",
       "   promoted follows  promoted email tweet  promoted dial phone  \\\n",
       "0                 -                     -                    -   \n",
       "1                 -                     -                    -   \n",
       "2                 -                     -                    -   \n",
       "3                 -                     -                    -   \n",
       "4                 -                     -                    -   \n",
       "\n",
       "   promoted media views  promoted media engagements  \n",
       "0                     -                           -  \n",
       "1                     -                           -  \n",
       "2                     -                           -  \n",
       "3                     -                           -  \n",
       "4                     -                           -  \n",
       "\n",
       "[5 rows x 40 columns]"
      ]
     },
     "execution_count": 50,
     "metadata": {},
     "output_type": "execute_result"
    }
   ],
   "source": [
    "df.head()"
   ]
  },
  {
   "cell_type": "markdown",
   "id": "ab6bd48e",
   "metadata": {},
   "source": [
    "Looks like we expected it to, but some of those columns look like they might be empty. Let's check them."
   ]
  },
  {
   "cell_type": "code",
   "execution_count": 51,
   "id": "b1bbbb1e",
   "metadata": {
    "scrolled": true
   },
   "outputs": [
    {
     "data": {
      "text/plain": [
       "Index(['Tweet id', 'Tweet permalink', 'Tweet text', 'time', 'impressions',\n",
       "       'engagements', 'engagement rate', 'retweets', 'replies', 'likes',\n",
       "       'user profile clicks', 'url clicks', 'hashtag clicks', 'detail expands',\n",
       "       'permalink clicks', 'app opens', 'app installs', 'follows',\n",
       "       'email tweet', 'dial phone', 'media views', 'media engagements',\n",
       "       'promoted impressions', 'promoted engagements',\n",
       "       'promoted engagement rate', 'promoted retweets', 'promoted replies',\n",
       "       'promoted likes', 'promoted user profile clicks', 'promoted url clicks',\n",
       "       'promoted hashtag clicks', 'promoted detail expands',\n",
       "       'promoted permalink clicks', 'promoted app opens',\n",
       "       'promoted app installs', 'promoted follows', 'promoted email tweet',\n",
       "       'promoted dial phone', 'promoted media views',\n",
       "       'promoted media engagements'],\n",
       "      dtype='object')"
      ]
     },
     "execution_count": 51,
     "metadata": {},
     "output_type": "execute_result"
    }
   ],
   "source": [
    "df.columns"
   ]
  },
  {
   "cell_type": "markdown",
   "id": "8864b136",
   "metadata": {},
   "source": [
    "We loop through every column and check that each value is equal to the string \"-\"."
   ]
  },
  {
   "cell_type": "code",
   "execution_count": 52,
   "id": "8f44f905",
   "metadata": {},
   "outputs": [
    {
     "data": {
      "text/plain": [
       "True"
      ]
     },
     "execution_count": 52,
     "metadata": {},
     "output_type": "execute_result"
    }
   ],
   "source": [
    "# Every column from 23 to the end is a \"promoted\" column, which we suspect has no data\n",
    "promoted_cols = df.iloc[:,22:]\n",
    "\n",
    "# Loop through the columns, comparing the sum of all comparisons to the columns length\n",
    "temp1 = []\n",
    "for y in range(len(promoted_cols.columns)):\n",
    "    temp = []\n",
    "    for x in range(len(promoted_cols)):\n",
    "        temp.append(promoted_cols.iloc[x,y] == '-')\n",
    "    temp1.append(sum(temp) == len(promoted_cols))\n",
    "sum(temp1) == len(promoted_cols.columns)"
   ]
  },
  {
   "cell_type": "markdown",
   "id": "cbb6695d",
   "metadata": {},
   "source": [
    "Perfect, it looks like all those columns are empty and we can safetly drop them. We're also going to drop the first two columns because Tweet ID and Permalink are just identifiers we won't be using."
   ]
  },
  {
   "cell_type": "code",
   "execution_count": 53,
   "id": "c5eb0d88",
   "metadata": {
    "scrolled": true
   },
   "outputs": [
    {
     "data": {
      "text/html": [
       "<div>\n",
       "<style scoped>\n",
       "    .dataframe tbody tr th:only-of-type {\n",
       "        vertical-align: middle;\n",
       "    }\n",
       "\n",
       "    .dataframe tbody tr th {\n",
       "        vertical-align: top;\n",
       "    }\n",
       "\n",
       "    .dataframe thead th {\n",
       "        text-align: right;\n",
       "    }\n",
       "</style>\n",
       "<table border=\"1\" class=\"dataframe\">\n",
       "  <thead>\n",
       "    <tr style=\"text-align: right;\">\n",
       "      <th></th>\n",
       "      <th>Tweet text</th>\n",
       "      <th>time</th>\n",
       "      <th>impressions</th>\n",
       "      <th>engagements</th>\n",
       "      <th>engagement rate</th>\n",
       "      <th>retweets</th>\n",
       "      <th>replies</th>\n",
       "      <th>likes</th>\n",
       "      <th>user profile clicks</th>\n",
       "      <th>url clicks</th>\n",
       "    </tr>\n",
       "  </thead>\n",
       "  <tbody>\n",
       "    <tr>\n",
       "      <th>0</th>\n",
       "      <td>@MTCBATA is looking for a new Executive Direct...</td>\n",
       "      <td>2018-10-27 18:01 +0000</td>\n",
       "      <td>124.0</td>\n",
       "      <td>5.0</td>\n",
       "      <td>0.040323</td>\n",
       "      <td>0.0</td>\n",
       "      <td>0.0</td>\n",
       "      <td>0.0</td>\n",
       "      <td>1.0</td>\n",
       "      <td>4.0</td>\n",
       "    </tr>\n",
       "    <tr>\n",
       "      <th>1</th>\n",
       "      <td>Ultimate seamlessness. https://t.co/CdCLrg2o6a</td>\n",
       "      <td>2018-10-26 14:24 +0000</td>\n",
       "      <td>345.0</td>\n",
       "      <td>10.0</td>\n",
       "      <td>0.028986</td>\n",
       "      <td>0.0</td>\n",
       "      <td>0.0</td>\n",
       "      <td>1.0</td>\n",
       "      <td>0.0</td>\n",
       "      <td>9.0</td>\n",
       "    </tr>\n",
       "    <tr>\n",
       "      <th>2</th>\n",
       "      <td>Help Nix Prop 6! Save funding for more seamles...</td>\n",
       "      <td>2018-10-26 02:28 +0000</td>\n",
       "      <td>994.0</td>\n",
       "      <td>19.0</td>\n",
       "      <td>0.019115</td>\n",
       "      <td>4.0</td>\n",
       "      <td>0.0</td>\n",
       "      <td>5.0</td>\n",
       "      <td>3.0</td>\n",
       "      <td>5.0</td>\n",
       "    </tr>\n",
       "    <tr>\n",
       "      <th>3</th>\n",
       "      <td>It doesn't have to be this way! Let's get to f...</td>\n",
       "      <td>2018-10-23 23:29 +0000</td>\n",
       "      <td>792.0</td>\n",
       "      <td>7.0</td>\n",
       "      <td>0.008838</td>\n",
       "      <td>2.0</td>\n",
       "      <td>0.0</td>\n",
       "      <td>4.0</td>\n",
       "      <td>1.0</td>\n",
       "      <td>0.0</td>\n",
       "    </tr>\n",
       "    <tr>\n",
       "      <th>4</th>\n",
       "      <td>And then come say hi at next month’s @SPUR_Urb...</td>\n",
       "      <td>2018-10-23 23:09 +0000</td>\n",
       "      <td>532.0</td>\n",
       "      <td>3.0</td>\n",
       "      <td>0.005639</td>\n",
       "      <td>0.0</td>\n",
       "      <td>0.0</td>\n",
       "      <td>1.0</td>\n",
       "      <td>2.0</td>\n",
       "      <td>0.0</td>\n",
       "    </tr>\n",
       "  </tbody>\n",
       "</table>\n",
       "</div>"
      ],
      "text/plain": [
       "                                          Tweet text                    time  \\\n",
       "0  @MTCBATA is looking for a new Executive Direct...  2018-10-27 18:01 +0000   \n",
       "1     Ultimate seamlessness. https://t.co/CdCLrg2o6a  2018-10-26 14:24 +0000   \n",
       "2  Help Nix Prop 6! Save funding for more seamles...  2018-10-26 02:28 +0000   \n",
       "3  It doesn't have to be this way! Let's get to f...  2018-10-23 23:29 +0000   \n",
       "4  And then come say hi at next month’s @SPUR_Urb...  2018-10-23 23:09 +0000   \n",
       "\n",
       "   impressions  engagements  engagement rate  retweets  replies  likes  \\\n",
       "0        124.0          5.0         0.040323       0.0      0.0    0.0   \n",
       "1        345.0         10.0         0.028986       0.0      0.0    1.0   \n",
       "2        994.0         19.0         0.019115       4.0      0.0    5.0   \n",
       "3        792.0          7.0         0.008838       2.0      0.0    4.0   \n",
       "4        532.0          3.0         0.005639       0.0      0.0    1.0   \n",
       "\n",
       "   user profile clicks  url clicks  \n",
       "0                  1.0         4.0  \n",
       "1                  0.0         9.0  \n",
       "2                  3.0         5.0  \n",
       "3                  1.0         0.0  \n",
       "4                  2.0         0.0  "
      ]
     },
     "execution_count": 53,
     "metadata": {},
     "output_type": "execute_result"
    }
   ],
   "source": [
    "#remove columns with no/irrelevant data\n",
    "df = df.iloc[:,2:12]\n",
    "\n",
    "df.head()"
   ]
  },
  {
   "cell_type": "markdown",
   "id": "bfc97785",
   "metadata": {},
   "source": [
    "Great, that looks a lot better. We also might want to make sure that the time column is a datetime object and not a string."
   ]
  },
  {
   "cell_type": "markdown",
   "id": "6f473b4d",
   "metadata": {},
   "source": [
    "Darn, looks like it's a string. We should convert it to datetime instead which is a lot easier to work with."
   ]
  },
  {
   "cell_type": "code",
   "execution_count": 54,
   "id": "9a10ea25",
   "metadata": {},
   "outputs": [],
   "source": [
    "from datetime import datetime\n",
    "temp = []\n",
    "for x in range(len(df['time'])):\n",
    "    # It's in a weird format that datetime doesn't accomodate, so we'll need to remove the last\n",
    "    # 6 characters of the string and replace it with an appropriate seconds identifier\n",
    "    temp.append(datetime.strptime(str(df['time'].iloc[x][0:-6] + ':00'), '%Y-%m-%d %H:%M:%S'))\n",
    "df['time'] = temp"
   ]
  },
  {
   "cell_type": "code",
   "execution_count": 55,
   "id": "dbb9952c",
   "metadata": {},
   "outputs": [
    {
     "data": {
      "text/plain": [
       "0    2018-10-27 18:01:00\n",
       "1    2018-10-26 14:24:00\n",
       "2    2018-10-26 02:28:00\n",
       "3    2018-10-23 23:29:00\n",
       "4    2018-10-23 23:09:00\n",
       "             ...        \n",
       "35   2019-02-04 18:57:00\n",
       "36   2019-02-02 23:31:00\n",
       "37   2019-02-02 01:11:00\n",
       "38   2019-02-01 00:52:00\n",
       "39   2019-02-01 00:49:00\n",
       "Name: time, Length: 2249, dtype: datetime64[ns]"
      ]
     },
     "execution_count": 55,
     "metadata": {},
     "output_type": "execute_result"
    }
   ],
   "source": [
    "df['time']"
   ]
  },
  {
   "cell_type": "markdown",
   "id": "61cc9719",
   "metadata": {},
   "source": [
    "Looks good. Let's move on to the most complex column, the text of the tweets themselves. Just as as example take a look at the first tweet."
   ]
  },
  {
   "cell_type": "code",
   "execution_count": 59,
   "id": "f77d08cc",
   "metadata": {},
   "outputs": [
    {
     "data": {
      "text/plain": [
       "\"@MTCBATA is looking for a new Executive Director. The last one was in place for 17 years, so this is a BIG deal. We've put together a list of positive, visionary leaders we think are great candidates for the job. Would you add anyone else? Let us know! https://t.co/Syf9exwPTd\""
      ]
     },
     "execution_count": 59,
     "metadata": {},
     "output_type": "execute_result"
    }
   ],
   "source": [
    "df['Tweet text'].iloc[0]"
   ]
  },
  {
   "cell_type": "markdown",
   "id": "e57c76b7",
   "metadata": {},
   "source": [
    "Yikes, that's going to need a lot of cleaning to be usable. A lot more will be done in the pre-processing step, but for now let's just do the basics. Splitting the tweets into individual words, and removing special characters."
   ]
  },
  {
   "cell_type": "code",
   "execution_count": 113,
   "id": "36f0d40e",
   "metadata": {},
   "outputs": [],
   "source": [
    "# break the tweets up into individual words\n",
    "tweet_words = []\n",
    "for x in range(len(df)):\n",
    "    b = df['Tweet text'].iloc[x].lower()\n",
    "    c = re.split('\\s', b)\n",
    "    words = list(filter(lambda x: len(re.findall('[a-zA-Z]', x)) != 0, c))\n",
    "    tweet_words.append(words)\n",
    "\n",
    "df['tweet words'] = tweet_words"
   ]
  },
  {
   "cell_type": "code",
   "execution_count": 114,
   "id": "4cf3f7aa",
   "metadata": {},
   "outputs": [
    {
     "data": {
      "text/plain": [
       "0     [@mtcbata, is, looking, for, a, new, executive...\n",
       "1     [ultimate, seamlessness., https://t.co/cdclrg2...\n",
       "2     [help, nix, prop, save, funding, for, more, se...\n",
       "3     [it, doesn't, have, to, be, this, way!, let's,...\n",
       "4     [and, then, come, say, hi, at, next, month’s, ...\n",
       "                            ...                        \n",
       "35    [today, is, #transitequityday,, chosen, in, ho...\n",
       "36    [@alevin, @anniefryman, @scott_wiener, @gillib...\n",
       "37    [☺️all, the, transit, love, https://t.co/vvzzu...\n",
       "38    [@ratnaamin, re:seamless, transit, report:, \"m...\n",
       "39    [congrats, @ratnaamin, on, your, new, adventur...\n",
       "Name: tweet words, Length: 2249, dtype: object"
      ]
     },
     "execution_count": 114,
     "metadata": {},
     "output_type": "execute_result"
    }
   ],
   "source": [
    "# double check that it worked\n",
    "df['tweet words']"
   ]
  },
  {
   "cell_type": "markdown",
   "id": "989f208b",
   "metadata": {},
   "source": [
    "Great. Let's export this cleaned data and move onto the next notebook, which covers EDA."
   ]
  },
  {
   "cell_type": "code",
   "execution_count": 116,
   "id": "9f0e5186",
   "metadata": {},
   "outputs": [],
   "source": [
    "df.to_csv('/Users/grahamsmith/Documents/SpringboardWork/Seamless_Twitter_Analysis/cleaned tweets.csv')"
   ]
  }
 ],
 "metadata": {
  "kernelspec": {
   "display_name": "Python 3 (ipykernel)",
   "language": "python",
   "name": "python3"
  },
  "language_info": {
   "codemirror_mode": {
    "name": "ipython",
    "version": 3
   },
   "file_extension": ".py",
   "mimetype": "text/x-python",
   "name": "python",
   "nbconvert_exporter": "python",
   "pygments_lexer": "ipython3",
   "version": "3.8.8"
  }
 },
 "nbformat": 4,
 "nbformat_minor": 5
}
