{
 "cells": [
  {
   "cell_type": "code",
   "execution_count": 27,
   "id": "02ac2833",
   "metadata": {},
   "outputs": [],
   "source": [
    "import pandas as pd\n",
    "import numpy as np\n",
    "import statistics as stat\n",
    "import re"
   ]
  },
  {
   "cell_type": "code",
   "execution_count": 17,
   "id": "f43fc59f",
   "metadata": {},
   "outputs": [],
   "source": [
    "july = pd.read_csv('/Users/grahamsmith/Documents/SpringboardWork/Seamless_Twitter_Analysis/july_2022_tweets.csv')\n",
    "june = pd.read_csv('/Users/grahamsmith/Documents/SpringboardWork/Seamless_Twitter_Analysis/june_2022_tweets.csv')\n",
    "may = pd.read_csv('/Users/grahamsmith/Documents/SpringboardWork/Seamless_Twitter_Analysis/may_2022_tweets.csv')\n",
    "april = pd.read_csv('/Users/grahamsmith/Documents/SpringboardWork/Seamless_Twitter_Analysis/april_2022_tweets.csv')\n",
    "march = pd.read_csv('/Users/grahamsmith/Documents/SpringboardWork/Seamless_Twitter_Analysis/march_2022_tweets.csv')\n",
    "february = pd.read_csv('/Users/grahamsmith/Documents/SpringboardWork/Seamless_Twitter_Analysis/february_2022_tweets.csv')\n",
    "january = pd.read_csv('/Users/grahamsmith/Documents/SpringboardWork/Seamless_Twitter_Analysis/january_2022_tweets.csv')\n",
    "december = pd.read_csv('/Users/grahamsmith/Documents/SpringboardWork/Seamless_Twitter_Analysis/december_2021_tweets.csv')\n",
    "november = pd.read_csv('/Users/grahamsmith/Documents/SpringboardWork/Seamless_Twitter_Analysis/november_2021_tweets.csv')\n",
    "october = pd.read_csv('/Users/grahamsmith/Documents/SpringboardWork/Seamless_Twitter_Analysis/october_2021_tweets.csv')"
   ]
  },
  {
   "cell_type": "code",
   "execution_count": 25,
   "id": "9f75ec7b",
   "metadata": {},
   "outputs": [],
   "source": [
    "#%history -g"
   ]
  },
  {
   "cell_type": "code",
   "execution_count": 18,
   "id": "47a6382f",
   "metadata": {},
   "outputs": [],
   "source": [
    "df = pd.concat([july, june, may, april, march, february, january, december, november, october])"
   ]
  },
  {
   "cell_type": "code",
   "execution_count": 19,
   "id": "a612598f",
   "metadata": {},
   "outputs": [],
   "source": [
    "df = df.iloc[:,:18]"
   ]
  },
  {
   "cell_type": "code",
   "execution_count": 20,
   "id": "1d41d288",
   "metadata": {},
   "outputs": [
    {
     "data": {
      "text/plain": [
       "2206.700696711803"
      ]
     },
     "execution_count": 20,
     "metadata": {},
     "output_type": "execute_result"
    }
   ],
   "source": [
    "stat.stdev(df['impressions'])"
   ]
  },
  {
   "cell_type": "code",
   "execution_count": 21,
   "id": "9c871651",
   "metadata": {},
   "outputs": [
    {
     "data": {
      "text/plain": [
       "862.2184115523465"
      ]
     },
     "execution_count": 21,
     "metadata": {},
     "output_type": "execute_result"
    }
   ],
   "source": [
    "np.mean(df['impressions'])"
   ]
  },
  {
   "cell_type": "code",
   "execution_count": 22,
   "id": "8de0430c",
   "metadata": {},
   "outputs": [
    {
     "data": {
      "text/plain": [
       "Index(['Tweet id', 'Tweet permalink', 'Tweet text', 'time', 'impressions',\n",
       "       'engagements', 'engagement rate', 'retweets', 'replies', 'likes',\n",
       "       'user profile clicks', 'url clicks', 'hashtag clicks', 'detail expands',\n",
       "       'permalink clicks', 'app opens', 'app installs', 'follows'],\n",
       "      dtype='object')"
      ]
     },
     "execution_count": 22,
     "metadata": {},
     "output_type": "execute_result"
    }
   ],
   "source": [
    "df.columns"
   ]
  },
  {
   "cell_type": "code",
   "execution_count": 23,
   "id": "559a2321",
   "metadata": {},
   "outputs": [
    {
     "data": {
      "text/plain": [
       "1.648014440433213"
      ]
     },
     "execution_count": 23,
     "metadata": {},
     "output_type": "execute_result"
    }
   ],
   "source": [
    "np.mean(df['retweets'])"
   ]
  },
  {
   "cell_type": "code",
   "execution_count": 24,
   "id": "076bb105",
   "metadata": {},
   "outputs": [
    {
     "data": {
      "text/plain": [
       "0.6931407942238267"
      ]
     },
     "execution_count": 24,
     "metadata": {},
     "output_type": "execute_result"
    }
   ],
   "source": [
    "np.mean(df['replies'])"
   ]
  },
  {
   "cell_type": "code",
   "execution_count": 28,
   "id": "de9272ed",
   "metadata": {},
   "outputs": [],
   "source": [
    "tweet_words = []\n",
    "for x in range(len(df)):\n",
    "    a = re.sub(r'[^a-zA-Z0-9]', ' ', df['Tweet text'].iloc[x])\n",
    "    b = re.split('\\s', a)\n",
    "    words = list(filter(lambda x: len(x) != 0, b))\n",
    "    tweet_words.append(words)\n",
    "\n",
    "df['tweet words'] = tweet_words"
   ]
  },
  {
   "cell_type": "code",
   "execution_count": 31,
   "id": "6affc37c",
   "metadata": {},
   "outputs": [
    {
     "data": {
      "text/plain": [
       "32.34476534296029"
      ]
     },
     "execution_count": 31,
     "metadata": {},
     "output_type": "execute_result"
    }
   ],
   "source": [
    "y = []\n",
    "for x in df['tweet words']:\n",
    "    y.append(len(x))\n",
    "np.mean(y)"
   ]
  },
  {
   "cell_type": "code",
   "execution_count": 32,
   "id": "a32d5951",
   "metadata": {},
   "outputs": [],
   "source": [
    "df['tweet length'] = y"
   ]
  },
  {
   "cell_type": "code",
   "execution_count": 34,
   "id": "a7e26053",
   "metadata": {},
   "outputs": [
    {
     "ename": "NameError",
     "evalue": "name 'LinearRegression' is not defined",
     "output_type": "error",
     "traceback": [
      "\u001b[0;31m---------------------------------------------------------------------------\u001b[0m",
      "\u001b[0;31mNameError\u001b[0m                                 Traceback (most recent call last)",
      "Input \u001b[0;32mIn [34]\u001b[0m, in \u001b[0;36m<cell line: 1>\u001b[0;34m()\u001b[0m\n\u001b[0;32m----> 1\u001b[0m model \u001b[38;5;241m=\u001b[39m \u001b[43mLinearRegression\u001b[49m()\n\u001b[1;32m      2\u001b[0m a \u001b[38;5;241m=\u001b[39m df[\u001b[38;5;124m'\u001b[39m\u001b[38;5;124mtweet length\u001b[39m\u001b[38;5;124m'\u001b[39m]\u001b[38;5;241m.\u001b[39mto_numpy()\n\u001b[1;32m      3\u001b[0m x \u001b[38;5;241m=\u001b[39m a\u001b[38;5;241m.\u001b[39mreshape(\u001b[38;5;241m-\u001b[39m\u001b[38;5;241m1\u001b[39m, \u001b[38;5;241m1\u001b[39m)\n",
      "\u001b[0;31mNameError\u001b[0m: name 'LinearRegression' is not defined"
     ]
    }
   ],
   "source": [
    "model = LinearRegression()\n",
    "a = df['tweet length'].to_numpy()\n",
    "x = a.reshape(-1, 1)\n",
    "y = df['impressions']\n",
    "model.fit(x,y)\n",
    "r_sq = model.score(x, y)\n",
    "r_sq\n"
   ]
  },
  {
   "cell_type": "code",
   "execution_count": null,
   "id": "03f87828",
   "metadata": {},
   "outputs": [],
   "source": [
    "\n",
    "124/301: a = df['tweet length'].to_numpy()\n",
    "124/302:\n",
    "model = LinearRegression()\n",
    "a = df['tweet length'].to_numpy()\n",
    "x = a.reshape(-1, 1)\n",
    "y = df['impressions']\n",
    "model.fit(x,y)\n",
    "r_sq = model.score(x, y)\n",
    "r_sq\n",
    "124/303:\n",
    "import datetime as dt\n",
    "df['time'] = pd.to_datetime(df['time'])\n",
    "df['time']=df['time'].map(dt.datetime.toordinal)\n",
    "124/304: a = df['tweet length'].to_numpy()\n",
    "124/305:\n",
    "model = LinearRegression()\n",
    "a = df['time'].to_numpy()\n",
    "x = a.reshape(-1, 1)\n",
    "y = df['impressions']\n",
    "model.fit(x,y)\n",
    "124/306:\n",
    "r_sq = model.score(x, y)\n",
    "r_sq\n",
    "124/307: df['time'].hist(bins=50)\n",
    "124/308: df['retweets'].hist(bins=50)\n",
    "124/309: df['impressions'].hist(bins=50)\n",
    "124/310:\n",
    "highimp = df[df['impressions'] > 5000]\n",
    "for x in highimp['Tweet text']:\n",
    "    print(x)\n",
    "124/311: df['likes'].hist(bins=10)\n",
    "124/312: df.columns\n",
    "124/313: df['engagements'].hist(bins=10)\n",
    "124/314:\n",
    "has_links = []\n",
    "for x in df['Tweet text']:\n",
    "    a = re.match('https://', x)\n",
    "    has_links.append(a)\n",
    "has_links\n",
    "124/315:\n",
    "has_at = []\n",
    "for x in df['Tweet text']:\n",
    "    a = re.match('@', x)\n",
    "    has_at.append(a)\n",
    "has_at\n",
    "124/316: re.findall('@[a-zA-Z] ', str(df['Tweet text'][0]))\n",
    "124/317: str(df['Tweet text'][0])\n",
    "124/318:\n",
    "string = 'lets yours letter basket'\n",
    "re.findall('+let[a-z] ', string)\n",
    "124/319: print(df['Tweet text'][0:1])\n",
    "124/320: df.head()\n",
    "124/321:\n",
    "link_dummy = []\n",
    "for x in has_links:\n",
    "    if x == None:\n",
    "        link_dummy.append(0)\n",
    "    else:\n",
    "        link_dummy.append(1)\n",
    "        \n",
    "df['link dummy'] = link_dummy\n",
    "124/322:\n",
    "model = LinearRegression()\n",
    "a = df['link dummy'].to_numpy()\n",
    "x = a.reshape(-1, 1)\n",
    "y = df['impressions']\n",
    "model.fit(x,y)\n",
    "r_sq = model.score(x, y)\n",
    "r_sq\n",
    "124/323:\n",
    "a = df['link dummy'].to_numpy()\n",
    "x = a.reshape(-1, 1)\n",
    "124/324:\n",
    "\n",
    "print(str(df['Tweet text'][0:1]))\n",
    "124/325:\n",
    "\n",
    "type(df['Tweet text'][0:1])\n",
    "124/326:\n",
    "\n",
    "list(type(df['Tweet text'][0:1]))\n",
    "124/327:\n",
    "\n",
    "list((df['Tweet text'][0:1])\n",
    "124/328:\n",
    "\n",
    "list((df['Tweet text'][0:1]))\n",
    "124/329: re.findall('@[a-zA-Z] ', str(df['Tweet text'][0]))\n",
    "124/330: re.findall('^@[a-zA-Z] ', str(df['Tweet text'][0]))\n",
    "124/331: re.findall(^'@[a-zA-Z] ', str(df['Tweet text'][0]))\n",
    "124/332: re.findall('^@[a-zA-Z] ', str(df['Tweet text'][0]))\n",
    "124/333: re.findall('@GenesisCali', str(df['Tweet text'][0]))\n",
    "124/334: re.findall('^@GenesisCali', str(df['Tweet text'][0]))"
   ]
  },
  {
   "cell_type": "code",
   "execution_count": null,
   "id": "86c89d0a",
   "metadata": {},
   "outputs": [],
   "source": [
    "124/280: str(df['Tweet text'][0]\n",
    "124/281: str(df['Tweet text'][0])\n",
    "124/282:\n",
    "import pandas as pd\n",
    "import numpy as np\n",
    "import statistics as stat\n",
    "import re\n",
    "from sklearn import linear_model\n",
    "from sklearn.linear_model import LinearRegression"
   ]
  }
 ],
 "metadata": {
  "kernelspec": {
   "display_name": "Python 3 (ipykernel)",
   "language": "python",
   "name": "python3"
  },
  "language_info": {
   "codemirror_mode": {
    "name": "ipython",
    "version": 3
   },
   "file_extension": ".py",
   "mimetype": "text/x-python",
   "name": "python",
   "nbconvert_exporter": "python",
   "pygments_lexer": "ipython3",
   "version": "3.8.8"
  }
 },
 "nbformat": 4,
 "nbformat_minor": 5
}
