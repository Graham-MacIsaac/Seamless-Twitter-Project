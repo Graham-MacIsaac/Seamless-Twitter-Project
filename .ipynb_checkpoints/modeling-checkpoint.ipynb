{
 "cells": [
  {
   "cell_type": "markdown",
   "id": "c8399311",
   "metadata": {},
   "source": [
    "### Seamless Bay Area Tweet Analysis: Part 4, Modeling\n",
    "\n",
    "\n",
    "The goal of this project is to analyze the twitter account of the nonprofit group Seamless Bay Area and determine what makes up the most high-impact tweet as measured by engagements.\n",
    "\n",
    "In part four we start doing modeling, either to see if there is a direct linear relationship between any tweet features and engagements or if any emergent categories of tweets are predictive."
   ]
  },
  {
   "cell_type": "code",
   "execution_count": 19,
   "id": "9d3b468e",
   "metadata": {},
   "outputs": [],
   "source": [
    "# Load necessary libraries\n",
    "import pandas as pd\n",
    "import numpy as np\n",
    "import statistics as stat\n",
    "import re\n",
    "from sklearn import linear_model\n",
    "from sklearn.linear_model import LinearRegression\n",
    "import matplotlib.pyplot as plt\n",
    "import random; random.seed(53)\n",
    "from sklearn.feature_extraction.text import TfidfVectorizer\n",
    "from sklearn.naive_bayes import MultinomialNB\n",
    "from sklearn.model_selection import train_test_split\n",
    "from sklearn import metrics\n",
    "from sklearn.metrics import accuracy_score\n",
    "from sklearn.feature_extraction.text import CountVectorizer"
   ]
  },
  {
   "cell_type": "code",
   "execution_count": 161,
   "id": "d314426f",
   "metadata": {},
   "outputs": [],
   "source": [
    "df = pd.read_csv(\"/Users/grahamsmith/Documents/SpringboardWork/Seamless_Twitter_Analysis/tweets with features.csv\")"
   ]
  },
  {
   "cell_type": "code",
   "execution_count": 162,
   "id": "2514532d",
   "metadata": {
    "scrolled": true
   },
   "outputs": [
    {
     "data": {
      "text/html": [
       "<div>\n",
       "<style scoped>\n",
       "    .dataframe tbody tr th:only-of-type {\n",
       "        vertical-align: middle;\n",
       "    }\n",
       "\n",
       "    .dataframe tbody tr th {\n",
       "        vertical-align: top;\n",
       "    }\n",
       "\n",
       "    .dataframe thead th {\n",
       "        text-align: right;\n",
       "    }\n",
       "</style>\n",
       "<table border=\"1\" class=\"dataframe\">\n",
       "  <thead>\n",
       "    <tr style=\"text-align: right;\">\n",
       "      <th></th>\n",
       "      <th>Unnamed: 0.1</th>\n",
       "      <th>Unnamed: 0</th>\n",
       "      <th>Tweet text</th>\n",
       "      <th>time</th>\n",
       "      <th>impressions</th>\n",
       "      <th>engagements</th>\n",
       "      <th>engagement rate</th>\n",
       "      <th>retweets</th>\n",
       "      <th>replies</th>\n",
       "      <th>likes</th>\n",
       "      <th>...</th>\n",
       "      <th>url clicks</th>\n",
       "      <th>tweet words</th>\n",
       "      <th>links</th>\n",
       "      <th>replies_sentance</th>\n",
       "      <th>Negative words</th>\n",
       "      <th>Positive words</th>\n",
       "      <th>Sentiment Score</th>\n",
       "      <th>hour</th>\n",
       "      <th>minute</th>\n",
       "      <th>day</th>\n",
       "    </tr>\n",
       "  </thead>\n",
       "  <tbody>\n",
       "    <tr>\n",
       "      <th>0</th>\n",
       "      <td>0</td>\n",
       "      <td>0</td>\n",
       "      <td>@MTCBATA is looking for a new Executive Direct...</td>\n",
       "      <td>2018-10-27 18:01:00</td>\n",
       "      <td>124.0</td>\n",
       "      <td>5.0</td>\n",
       "      <td>0.040323</td>\n",
       "      <td>0.0</td>\n",
       "      <td>[['@MTCBATA']]</td>\n",
       "      <td>0.0</td>\n",
       "      <td>...</td>\n",
       "      <td>4.0</td>\n",
       "      <td>['a', 'ac', 'ad', 'al', 'an', 'and', 'any', 'a...</td>\n",
       "      <td>https://t.co/Syf9exwPTd</td>\n",
       "      <td>['@MTCBATA', 'is', 'looking', 'for', 'a', 'new...</td>\n",
       "      <td>['dire', 'in', 'ire', 'no', 'the']</td>\n",
       "      <td>['ace', 'add', 'as', 'big', 'can', 'candid', '...</td>\n",
       "      <td>0.086643</td>\n",
       "      <td>18</td>\n",
       "      <td>1</td>\n",
       "      <td>6</td>\n",
       "    </tr>\n",
       "    <tr>\n",
       "      <th>1</th>\n",
       "      <td>1</td>\n",
       "      <td>1</td>\n",
       "      <td>Ultimate seamlessness. https://t.co/CdCLrg2o6a</td>\n",
       "      <td>2018-10-26 14:24:00</td>\n",
       "      <td>345.0</td>\n",
       "      <td>10.0</td>\n",
       "      <td>0.028986</td>\n",
       "      <td>0.0</td>\n",
       "      <td>[]</td>\n",
       "      <td>1.0</td>\n",
       "      <td>...</td>\n",
       "      <td>9.0</td>\n",
       "      <td>['a', 'am', 'at', 'c', 'cd', 'cl', 'co', 'd', ...</td>\n",
       "      <td>https://t.co/CdCLrg2o6a</td>\n",
       "      <td>['Ultimate', 'seamlessness.', 'https://t.co/Cd...</td>\n",
       "      <td>[]</td>\n",
       "      <td>['mate', 'seamless', 'ultimate']</td>\n",
       "      <td>0.063830</td>\n",
       "      <td>14</td>\n",
       "      <td>24</td>\n",
       "      <td>5</td>\n",
       "    </tr>\n",
       "    <tr>\n",
       "      <th>2</th>\n",
       "      <td>2</td>\n",
       "      <td>2</td>\n",
       "      <td>Help Nix Prop 6! Save funding for more seamles...</td>\n",
       "      <td>2018-10-26 02:28:00</td>\n",
       "      <td>994.0</td>\n",
       "      <td>19.0</td>\n",
       "      <td>0.019115</td>\n",
       "      <td>4.0</td>\n",
       "      <td>[]</td>\n",
       "      <td>5.0</td>\n",
       "      <td>...</td>\n",
       "      <td>5.0</td>\n",
       "      <td>['a', 'ain', 'am', 'an', 'at', 'av', 'b', 'ba'...</td>\n",
       "      <td>https://t.co/qM4M7tCFVO, https://t.co/2379qGdY2D</td>\n",
       "      <td>['Help', 'Nix', 'Prop', '6!', 'Save', 'funding...</td>\n",
       "      <td>['ding', 'in', 'lie']</td>\n",
       "      <td>['for', 'fun', 'help', 'hone', 'in', 'more', '...</td>\n",
       "      <td>0.044199</td>\n",
       "      <td>2</td>\n",
       "      <td>28</td>\n",
       "      <td>5</td>\n",
       "    </tr>\n",
       "    <tr>\n",
       "      <th>3</th>\n",
       "      <td>3</td>\n",
       "      <td>3</td>\n",
       "      <td>It doesn't have to be this way! Let's get to f...</td>\n",
       "      <td>2018-10-23 23:29:00</td>\n",
       "      <td>792.0</td>\n",
       "      <td>7.0</td>\n",
       "      <td>0.008838</td>\n",
       "      <td>2.0</td>\n",
       "      <td>[]</td>\n",
       "      <td>4.0</td>\n",
       "      <td>...</td>\n",
       "      <td>0.0</td>\n",
       "      <td>['a', 'ac', 'act', 'ad', 'al', 'am', 'an', 'an...</td>\n",
       "      <td>https://t.co/FczQtLbH5d</td>\n",
       "      <td>['It', \"doesn't\", 'have', 'to', 'be', 'this', ...</td>\n",
       "      <td>['ill', 'in', 'the']</td>\n",
       "      <td>['box', 'da', 'fare', 'for', 'free', 'have', '...</td>\n",
       "      <td>0.055016</td>\n",
       "      <td>23</td>\n",
       "      <td>29</td>\n",
       "      <td>2</td>\n",
       "    </tr>\n",
       "    <tr>\n",
       "      <th>4</th>\n",
       "      <td>4</td>\n",
       "      <td>4</td>\n",
       "      <td>And then come say hi at next month’s @SPUR_Urb...</td>\n",
       "      <td>2018-10-23 23:09:00</td>\n",
       "      <td>532.0</td>\n",
       "      <td>3.0</td>\n",
       "      <td>0.005639</td>\n",
       "      <td>0.0</td>\n",
       "      <td>[['@SPUR_Urbanist'], ['@icgee']]</td>\n",
       "      <td>1.0</td>\n",
       "      <td>...</td>\n",
       "      <td>0.0</td>\n",
       "      <td>['a', 'al', 'along', 'am', 'an', 'and', 'as', ...</td>\n",
       "      <td>NaN</td>\n",
       "      <td>['And', 'then', 'come', 'say', 'hi', 'at', 'ne...</td>\n",
       "      <td>['ill', 'in', 'itch', 'itching', 'the']</td>\n",
       "      <td>['as', 'for', 'great', 'idea', 'in', 'next', '...</td>\n",
       "      <td>0.034826</td>\n",
       "      <td>23</td>\n",
       "      <td>9</td>\n",
       "      <td>2</td>\n",
       "    </tr>\n",
       "  </tbody>\n",
       "</table>\n",
       "<p>5 rows × 21 columns</p>\n",
       "</div>"
      ],
      "text/plain": [
       "   Unnamed: 0.1  Unnamed: 0  \\\n",
       "0             0           0   \n",
       "1             1           1   \n",
       "2             2           2   \n",
       "3             3           3   \n",
       "4             4           4   \n",
       "\n",
       "                                          Tweet text                 time  \\\n",
       "0  @MTCBATA is looking for a new Executive Direct...  2018-10-27 18:01:00   \n",
       "1    Ultimate seamlessness. https://t.co/CdCLrg2o6a   2018-10-26 14:24:00   \n",
       "2  Help Nix Prop 6! Save funding for more seamles...  2018-10-26 02:28:00   \n",
       "3  It doesn't have to be this way! Let's get to f...  2018-10-23 23:29:00   \n",
       "4  And then come say hi at next month’s @SPUR_Urb...  2018-10-23 23:09:00   \n",
       "\n",
       "   impressions  engagements  engagement rate  retweets  \\\n",
       "0        124.0          5.0         0.040323       0.0   \n",
       "1        345.0         10.0         0.028986       0.0   \n",
       "2        994.0         19.0         0.019115       4.0   \n",
       "3        792.0          7.0         0.008838       2.0   \n",
       "4        532.0          3.0         0.005639       0.0   \n",
       "\n",
       "                            replies  likes  ...  url clicks  \\\n",
       "0                    [['@MTCBATA']]    0.0  ...         4.0   \n",
       "1                                []    1.0  ...         9.0   \n",
       "2                                []    5.0  ...         5.0   \n",
       "3                                []    4.0  ...         0.0   \n",
       "4  [['@SPUR_Urbanist'], ['@icgee']]    1.0  ...         0.0   \n",
       "\n",
       "                                         tweet words  \\\n",
       "0  ['a', 'ac', 'ad', 'al', 'an', 'and', 'any', 'a...   \n",
       "1  ['a', 'am', 'at', 'c', 'cd', 'cl', 'co', 'd', ...   \n",
       "2  ['a', 'ain', 'am', 'an', 'at', 'av', 'b', 'ba'...   \n",
       "3  ['a', 'ac', 'act', 'ad', 'al', 'am', 'an', 'an...   \n",
       "4  ['a', 'al', 'along', 'am', 'an', 'and', 'as', ...   \n",
       "\n",
       "                                              links  \\\n",
       "0                           https://t.co/Syf9exwPTd   \n",
       "1                           https://t.co/CdCLrg2o6a   \n",
       "2  https://t.co/qM4M7tCFVO, https://t.co/2379qGdY2D   \n",
       "3                           https://t.co/FczQtLbH5d   \n",
       "4                                               NaN   \n",
       "\n",
       "                                    replies_sentance  \\\n",
       "0  ['@MTCBATA', 'is', 'looking', 'for', 'a', 'new...   \n",
       "1  ['Ultimate', 'seamlessness.', 'https://t.co/Cd...   \n",
       "2  ['Help', 'Nix', 'Prop', '6!', 'Save', 'funding...   \n",
       "3  ['It', \"doesn't\", 'have', 'to', 'be', 'this', ...   \n",
       "4  ['And', 'then', 'come', 'say', 'hi', 'at', 'ne...   \n",
       "\n",
       "                            Negative words  \\\n",
       "0       ['dire', 'in', 'ire', 'no', 'the']   \n",
       "1                                       []   \n",
       "2                    ['ding', 'in', 'lie']   \n",
       "3                     ['ill', 'in', 'the']   \n",
       "4  ['ill', 'in', 'itch', 'itching', 'the']   \n",
       "\n",
       "                                      Positive words Sentiment Score  hour  \\\n",
       "0  ['ace', 'add', 'as', 'big', 'can', 'candid', '...        0.086643    18   \n",
       "1                   ['mate', 'seamless', 'ultimate']        0.063830    14   \n",
       "2  ['for', 'fun', 'help', 'hone', 'in', 'more', '...        0.044199     2   \n",
       "3  ['box', 'da', 'fare', 'for', 'free', 'have', '...        0.055016    23   \n",
       "4  ['as', 'for', 'great', 'idea', 'in', 'next', '...        0.034826    23   \n",
       "\n",
       "   minute  day  \n",
       "0       1    6  \n",
       "1      24    5  \n",
       "2      28    5  \n",
       "3      29    2  \n",
       "4       9    2  \n",
       "\n",
       "[5 rows x 21 columns]"
      ]
     },
     "execution_count": 162,
     "metadata": {},
     "output_type": "execute_result"
    }
   ],
   "source": [
    "#Here is out data for reference\n",
    "df.head() "
   ]
  },
  {
   "cell_type": "markdown",
   "id": "0c0ca85e",
   "metadata": {},
   "source": [
    "The first order of business is to build some models to predict engagement rate from tweet text. The question can be approached as a simple classification problem, where the label is “high engagement” (1) or “low engagement” (0).\n",
    "\n",
    "In this case I'm defining \"high engagement\" as an engagement rate above the mean.\n",
    "\n",
    "We’ll compare the results of using the CountVectorizer and TfidfVectorizer, each paired with the Multinomial Naive Bayes classifier, a common method (I hear) to make predictions on text data."
   ]
  },
  {
   "cell_type": "markdown",
   "id": "98048223",
   "metadata": {},
   "source": [
    "A few notes on the hyperparameters:\n",
    "\n",
    "min_df and max_df Ignore terms that have a document frequency higher than 90% (very frequent), and lower than the 5% (highly infrequent), this has a similar effect of the stopwords in that it pulls out useless words\n",
    "\n",
    "I attempted an ngram_range of (1,3) - meaning the vectorizers will incorporate bi- and tri-grams alongside single words but this didn't make a difference at all so I removed it on the theory that unnessesary hyperparameters remove clarity without adding any additional information."
   ]
  },
  {
   "cell_type": "code",
   "execution_count": 213,
   "id": "c605da32",
   "metadata": {},
   "outputs": [],
   "source": [
    "#create our classes\n",
    "mean = df['engagement rate'].mean()\n",
    "df['target'] = np.where((df['engagement rate'] > mean), 1, 0)"
   ]
  },
  {
   "cell_type": "code",
   "execution_count": 214,
   "id": "4f805cc8",
   "metadata": {},
   "outputs": [],
   "source": [
    "#create target \n",
    "y = df['target']\n",
    "\n",
    "#create train and test set\n",
    "X_train, X_test, y_train, y_test = train_test_split(df['Tweet text'], y, random_state=53, test_size=.25)\n",
    "\n",
    "#define stopwords\n",
    "stopwords = ['mon','articl','amp',\"https\",\"0o\", \"0s\", \"3a\", \"3b\", \"3d\", \"6b\", \"6o\", \"a\", \"a1\", \"a2\", \"a3\", \"a4\", \"ab\", \"able\", \"about\", \"above\", \"abst\", \"ac\", \"accordance\", \"according\", \"accordingly\", \"across\", \"act\", \"actually\", \"ad\", \"added\", \"adj\", \"ae\", \"af\", \"affected\", \"affecting\", \"affects\", \"after\", \"afterwards\", \"ag\", \"again\", \"against\", \"ah\", \"ain\", \"ain't\", \"aj\", \"al\", \"all\", \"allow\", \"allows\", \"almost\", \"alone\", \"along\", \"already\", \"also\", \"although\", \"always\", \"am\", \"among\", \"amongst\", \"amoungst\", \"amount\", \"an\", \"and\", \"announce\", \"another\", \"any\", \"anybody\", \"anyhow\", \"anymore\", \"anyone\", \"anything\", \"anyway\", \"anyways\", \"anywhere\", \"ao\", \"ap\", \"apart\", \"apparently\", \"appear\", \"appreciate\", \"appropriate\", \"approximately\", \"ar\", \"are\", \"aren\", \"arent\", \"aren't\", \"arise\", \"around\", \"as\", \"a's\", \"aside\", \"ask\", \"asking\", \"associated\", \"at\", \"au\", \"auth\", \"av\", \"available\", \"aw\", \"away\", \"awfully\", \"ax\", \"ay\", \"az\", \"b\", \"b1\", \"b2\", \"b3\", \"ba\", \"back\", \"bc\", \"bd\", \"be\", \"became\", \"because\", \"become\", \"becomes\", \"becoming\", \"been\", \"before\", \"beforehand\", \"begin\", \"beginning\", \"beginnings\", \"begins\", \"behind\", \"being\", \"believe\", \"below\", \"beside\", \"besides\", \"best\", \"better\", \"between\", \"beyond\", \"bi\", \"bill\", \"biol\", \"bj\", \"bk\", \"bl\", \"bn\", \"both\", \"bottom\", \"bp\", \"br\", \"brief\", \"briefly\", \"bs\", \"bt\", \"bu\", \"but\", \"bx\", \"by\", \"c\", \"c1\", \"c2\", \"c3\", \"ca\", \"call\", \"came\", \"can\", \"cannot\", \"cant\", \"can't\", \"cause\", \"causes\", \"cc\", \"cd\", \"ce\", \"certain\", \"certainly\", \"cf\", \"cg\", \"ch\", \"changes\", \"ci\", \"cit\", \"cj\", \"cl\", \"clearly\", \"cm\", \"c'mon\", \"cn\", \"co\", \"com\", \"come\", \"comes\", \"con\", \"concerning\", \"consequently\", \"consider\", \"considering\", \"contain\", \"containing\", \"contains\", \"corresponding\", \"could\", \"couldn\", \"couldnt\", \"couldn't\", \"course\", \"cp\", \"cq\", \"cr\", \"cry\", \"cs\", \"c's\", \"ct\", \"cu\", \"currently\", \"cv\", \"cx\", \"cy\", \"cz\", \"d\", \"d2\", \"da\", \"date\", \"dc\", \"dd\", \"de\", \"definitely\", \"describe\", \"described\", \"despite\", \"detail\", \"df\", \"di\", \"did\", \"didn\", \"didn't\", \"different\", \"dj\", \"dk\", \"dl\", \"do\", \"does\", \"doesn\", \"doesn't\", \"doing\", \"don\", \"done\", \"don't\", \"down\", \"downwards\", \"dp\", \"dr\", \"ds\", \"dt\", \"du\", \"due\", \"during\", \"dx\", \"dy\", \"e\", \"e2\", \"e3\", \"ea\", \"each\", \"ec\", \"ed\", \"edu\", \"ee\", \"ef\", \"effect\", \"eg\", \"ei\", \"eight\", \"eighty\", \"either\", \"ej\", \"el\", \"eleven\", \"else\", \"elsewhere\", \"em\", \"empty\", \"en\", \"end\", \"ending\", \"enough\", \"entirely\", \"eo\", \"ep\", \"eq\", \"er\", \"es\", \"especially\", \"est\", \"et\", \"et-al\", \"etc\", \"eu\", \"ev\", \"even\", \"ever\", \"every\", \"everybody\", \"everyone\", \"everything\", \"everywhere\", \"ex\", \"exactly\", \"example\", \"except\", \"ey\", \"f\", \"f2\", \"fa\", \"far\", \"fc\", \"few\", \"ff\", \"fi\", \"fifteen\", \"fifth\", \"fify\", \"fill\", \"find\", \"fire\", \"first\", \"five\", \"fix\", \"fj\", \"fl\", \"fn\", \"fo\", \"followed\", \"following\", \"follows\", \"for\", \"former\", \"formerly\", \"forth\", \"forty\", \"found\", \"four\", \"fr\", \"from\", \"front\", \"fs\", \"ft\", \"fu\", \"full\", \"further\", \"furthermore\", \"fy\", \"g\", \"ga\", \"gave\", \"ge\", \"get\", \"gets\", \"getting\", \"gi\", \"give\", \"given\", \"gives\", \"giving\", \"gj\", \"gl\", \"go\", \"goes\", \"going\", \"gone\", \"got\", \"gotten\", \"gr\", \"greetings\", \"gs\", \"gy\", \"h\", \"h2\", \"h3\", \"had\", \"hadn\", \"hadn't\", \"happens\", \"hardly\", \"has\", \"hasn\", \"hasnt\", \"hasn't\", \"have\", \"haven\", \"haven't\", \"having\", \"he\", \"hed\", \"he'd\", \"he'll\", \"hello\", \"help\", \"hence\", \"her\", \"here\", \"hereafter\", \"hereby\", \"herein\", \"heres\", \"here's\", \"hereupon\", \"hers\", \"herself\", \"hes\", \"he's\", \"hh\", \"hi\", \"hid\", \"him\", \"himself\", \"his\", \"hither\", \"hj\", \"ho\", \"home\", \"hopefully\", \"how\", \"howbeit\", \"however\", \"how's\", \"hr\", \"hs\", \"http\", \"hu\", \"hundred\", \"hy\", \"i\", \"i2\", \"i3\", \"i4\", \"i6\", \"i7\", \"i8\", \"ia\", \"ib\", \"ibid\", \"ic\", \"id\", \"i'd\", \"ie\", \"if\", \"ig\", \"ignored\", \"ih\", \"ii\", \"ij\", \"il\", \"i'll\", \"im\", \"i'm\", \"immediate\", \"immediately\", \"importance\", \"important\", \"in\", \"inasmuch\", \"inc\", \"indeed\", \"index\", \"indicate\", \"indicated\", \"indicates\", \"information\", \"inner\", \"insofar\", \"instead\", \"interest\", \"into\", \"invention\", \"inward\", \"io\", \"ip\", \"iq\", \"ir\", \"is\", \"isn\", \"isn't\", \"it\", \"itd\", \"it'd\", \"it'll\", \"its\", \"it's\", \"itself\", \"iv\", \"i've\", \"ix\", \"iy\", \"iz\", \"j\", \"jj\", \"jr\", \"js\", \"jt\", \"ju\", \"just\", \"k\", \"ke\", \"keep\", \"keeps\", \"kept\", \"kg\", \"kj\", \"km\", \"know\", \"known\", \"knows\", \"ko\", \"l\", \"l2\", \"la\", \"largely\", \"last\", \"lately\", \"later\", \"latter\", \"latterly\", \"lb\", \"lc\", \"le\", \"least\", \"les\", \"less\", \"lest\", \"let\", \"lets\", \"let's\", \"lf\", \"like\", \"liked\", \"likely\", \"line\", \"little\", \"lj\", \"ll\", \"ll\", \"ln\", \"lo\", \"look\", \"looking\", \"looks\", \"los\", \"lr\", \"ls\", \"lt\", \"ltd\", \"m\", \"m2\", \"ma\", \"made\", \"mainly\", \"make\", \"makes\", \"many\", \"may\", \"maybe\", \"me\", \"mean\", \"means\", \"meantime\", \"meanwhile\", \"merely\", \"mg\", \"might\", \"mightn\", \"mightn't\", \"mill\", \"million\", \"mine\", \"miss\", \"ml\", \"mn\", \"mo\", \"more\", \"moreover\", \"most\", \"mostly\", \"move\", \"mr\", \"mrs\", \"ms\", \"mt\", \"mu\", \"much\", \"mug\", \"must\", \"mustn\", \"mustn't\", \"my\", \"myself\", \"n\", \"n2\", \"na\", \"name\", \"namely\", \"nay\", \"nc\", \"nd\", \"ne\", \"near\", \"nearly\", \"necessarily\", \"necessary\", \"need\", \"needn\", \"needn't\", \"needs\", \"neither\", \"never\", \"nevertheless\", \"new\", \"next\", \"ng\", \"ni\", \"nine\", \"ninety\", \"nj\", \"nl\", \"nn\", \"no\", \"nobody\", \"non\", \"none\", \"nonetheless\", \"noone\", \"nor\", \"normally\", \"nos\", \"not\", \"noted\", \"nothing\", \"novel\", \"now\", \"nowhere\", \"nr\", \"ns\", \"nt\", \"ny\", \"o\", \"oa\", \"ob\", \"obtain\", \"obtained\", \"obviously\", \"oc\", \"od\", \"of\", \"off\", \"often\", \"og\", \"oh\", \"oi\", \"oj\", \"ok\", \"okay\", \"ol\", \"old\", \"om\", \"omitted\", \"on\", \"once\", \"one\", \"ones\", \"only\", \"onto\", \"oo\", \"op\", \"oq\", \"or\", \"ord\", \"os\", \"ot\", \"other\", \"others\", \"otherwise\", \"ou\", \"ought\", \"our\", \"ours\", \"ourselves\", \"out\", \"outside\", \"over\", \"overall\", \"ow\", \"owing\", \"own\", \"ox\", \"oz\", \"p\", \"p1\", \"p2\", \"p3\", \"page\", \"pagecount\", \"pages\", \"par\", \"part\", \"particular\", \"particularly\", \"pas\", \"past\", \"pc\", \"pd\", \"pe\", \"per\", \"perhaps\", \"pf\", \"ph\", \"pi\", \"pj\", \"pk\", \"pl\", \"placed\", \"please\", \"plus\", \"pm\", \"pn\", \"po\", \"poorly\", \"possible\", \"possibly\", \"potentially\", \"pp\", \"pq\", \"pr\", \"predominantly\", \"present\", \"presumably\", \"previously\", \"primarily\", \"probably\", \"promptly\", \"proud\", \"provides\", \"ps\", \"pt\", \"pu\", \"put\", \"py\", \"q\", \"qj\", \"qu\", \"que\", \"quickly\", \"quite\", \"qv\", \"r\", \"r2\", \"ra\", \"ran\", \"rather\", \"rc\", \"rd\", \"re\", \"readily\", \"really\", \"reasonably\", \"recent\", \"recently\", \"ref\", \"refs\", \"regarding\", \"regardless\", \"regards\", \"related\", \"relatively\", \"research\", \"research-articl\", \"respectively\", \"resulted\", \"resulting\", \"results\", \"rf\", \"rh\", \"ri\", \"right\", \"rj\", \"rl\", \"rm\", \"rn\", \"ro\", \"rq\", \"rr\", \"rs\", \"rt\", \"ru\", \"run\", \"rv\", \"ry\", \"s\", \"s2\", \"sa\", \"said\", \"same\", \"saw\", \"say\", \"saying\", \"says\", \"sc\", \"sd\", \"se\", \"sec\", \"second\", \"secondly\", \"section\", \"see\", \"seeing\", \"seem\", \"seemed\", \"seeming\", \"seems\", \"seen\", \"self\", \"selves\", \"sensible\", \"sent\", \"serious\", \"seriously\", \"seven\", \"several\", \"sf\", \"shall\", \"shan\", \"shan't\", \"she\", \"shed\", \"she'd\", \"she'll\", \"shes\", \"she's\", \"should\", \"shouldn\", \"shouldn't\", \"should've\", \"show\", \"showed\", \"shown\", \"showns\", \"shows\", \"si\", \"side\", \"significant\", \"significantly\", \"similar\", \"similarly\", \"since\", \"sincere\", \"six\", \"sixty\", \"sj\", \"sl\", \"slightly\", \"sm\", \"sn\", \"so\", \"some\", \"somebody\", \"somehow\", \"someone\", \"somethan\", \"something\", \"sometime\", \"sometimes\", \"somewhat\", \"somewhere\", \"soon\", \"sorry\", \"sp\", \"specifically\", \"specified\", \"specify\", \"specifying\", \"sq\", \"sr\", \"ss\", \"st\", \"still\", \"stop\", \"strongly\", \"sub\", \"substantially\", \"successfully\", \"such\", \"sufficiently\", \"suggest\", \"sup\", \"sure\", \"sy\", \"system\", \"sz\", \"t\", \"t1\", \"t2\", \"t3\", \"take\", \"taken\", \"taking\", \"tb\", \"tc\", \"td\", \"te\", \"tell\", \"ten\", \"tends\", \"tf\", \"th\", \"than\", \"thank\", \"thanks\", \"thanx\", \"that\", \"that'll\", \"thats\", \"that's\", \"that've\", \"the\", \"their\", \"theirs\", \"them\", \"themselves\", \"then\", \"thence\", \"there\", \"thereafter\", \"thereby\", \"thered\", \"therefore\", \"therein\", \"there'll\", \"thereof\", \"therere\", \"theres\", \"there's\", \"thereto\", \"thereupon\", \"there've\", \"these\", \"they\", \"theyd\", \"they'd\", \"they'll\", \"theyre\", \"they're\", \"they've\", \"thickv\", \"thin\", \"think\", \"third\", \"this\", \"thorough\", \"thoroughly\", \"those\", \"thou\", \"though\", \"thoughh\", \"thousand\", \"three\", \"throug\", \"through\", \"throughout\", \"thru\", \"thus\", \"ti\", \"til\", \"tip\", \"tj\", \"tl\", \"tm\", \"tn\", \"to\", \"together\", \"too\", \"took\", \"top\", \"toward\", \"towards\", \"tp\", \"tq\", \"tr\", \"tried\", \"tries\", \"truly\", \"try\", \"trying\", \"ts\", \"t's\", \"tt\", \"tv\", \"twelve\", \"twenty\", \"twice\", \"two\", \"tx\", \"u\", \"u201d\", \"ue\", \"ui\", \"uj\", \"uk\", \"um\", \"un\", \"under\", \"unfortunately\", \"unless\", \"unlike\", \"unlikely\", \"until\", \"unto\", \"uo\", \"up\", \"upon\", \"ups\", \"ur\", \"us\", \"use\", \"used\", \"useful\", \"usefully\", \"usefulness\", \"uses\", \"using\", \"usually\", \"ut\", \"v\", \"va\", \"value\", \"various\", \"vd\", \"ve\", \"ve\", \"very\", \"via\", \"viz\", \"vj\", \"vo\", \"vol\", \"vols\", \"volumtype\", \"vq\", \"vs\", \"vt\", \"vu\", \"w\", \"wa\", \"want\", \"wants\", \"was\", \"wasn\", \"wasnt\", \"wasn't\", \"way\", \"we\", \"wed\", \"we'd\", \"welcome\", \"well\", \"we'll\", \"well-b\", \"went\", \"were\", \"we're\", \"weren\", \"werent\", \"weren't\", \"we've\", \"what\", \"whatever\", \"what'll\", \"whats\", \"what's\", \"when\", \"whence\", \"whenever\", \"when's\", \"where\", \"whereafter\", \"whereas\", \"whereby\", \"wherein\", \"wheres\", \"where's\", \"whereupon\", \"wherever\", \"whether\", \"which\", \"while\", \"whim\", \"whither\", \"who\", \"whod\", \"whoever\", \"whole\", \"who'll\", \"whom\", \"whomever\", \"whos\", \"who's\", \"whose\", \"why\", \"why's\", \"wi\", \"widely\", \"will\", \"willing\", \"wish\", \"with\", \"within\", \"without\", \"wo\", \"won\", \"wonder\", \"wont\", \"won't\", \"words\", \"world\", \"would\", \"wouldn\", \"wouldnt\", \"wouldn't\", \"www\", \"x\", \"x1\", \"x2\", \"x3\", \"xf\", \"xi\", \"xj\", \"xk\", \"xl\", \"xn\", \"xo\", \"xs\", \"xt\", \"xv\", \"xx\", \"y\", \"y2\", \"yes\", \"yet\", \"yj\", \"yl\", \"you\", \"youd\", \"you'd\", \"you'll\", \"your\", \"youre\", \"you're\", \"yours\", \"yourself\", \"yourselves\", \"you've\", \"yr\", \"ys\", \"yt\", \"z\", \"zero\", \"zi\", \"zz\",]\n",
    "\n",
    "# initialize count vectorizer with english stopwords eliminating the least and most frequent words\n",
    "count_vectorizer = CountVectorizer(stop_words=stopwords, ngram_range=(1,3), min_df=.05, max_df=.9)\n",
    "\n",
    "# create count train and test variables\n",
    "count_train = count_vectorizer.fit_transform(X_train, y_train)\n",
    "count_test = count_vectorizer.transform(X_test)\n",
    "\n",
    "# initialize tfidf vectorizer\n",
    "tfidf_vectorizer = TfidfVectorizer(stop_words=stopwords, min_df=.05, max_df=0.9)\n",
    "\n",
    "# create tfidf train and test variables\n",
    "tfidf_train = tfidf_vectorizer.fit_transform(X_train, y_train)\n",
    "tfidf_test = tfidf_vectorizer.transform(X_test)"
   ]
  },
  {
   "cell_type": "code",
   "execution_count": 215,
   "id": "3074ec26",
   "metadata": {},
   "outputs": [
    {
     "name": "stdout",
     "output_type": "stream",
     "text": [
      "NaiveBayes Tfidf Score:  0.655417406749556\n",
      "NaiveBayes Count Score:  0.6483126110124334\n"
     ]
    }
   ],
   "source": [
    "# create a MulitnomialNB model\n",
    "tfidf_nb = MultinomialNB()\n",
    "tfidf_nb.fit(tfidf_train, y_train)\n",
    "\n",
    "# get predictions\n",
    "tfidf_nb_pred = tfidf_nb.predict(tfidf_test)\n",
    "\n",
    "# calculate accuracy\n",
    "tfidf_nb_score = accuracy_score(y_test, tfidf_nb_pred)\n",
    "\n",
    "# create a MulitnomialNB model\n",
    "count_nb = MultinomialNB()\n",
    "count_nb.fit(count_train, y_train)\n",
    "\n",
    "# get predictions\n",
    "count_nb_pred = count_nb.predict(count_test)\n",
    "\n",
    "# calculate accuracy\n",
    "count_nb_score = accuracy_score(y_test, count_nb_pred)\n",
    "\n",
    "print('NaiveBayes Tfidf Score: ', tfidf_nb_score)\n",
    "print('NaiveBayes Count Score: ', count_nb_score)"
   ]
  },
  {
   "cell_type": "markdown",
   "id": "4ce6941c",
   "metadata": {},
   "source": [
    "Tfidf is the winner with 0.66% accuracy, although Count was very close. However this isn't super useful to us on its own, let's see what words are especially predictive."
   ]
  },
  {
   "cell_type": "code",
   "execution_count": 48,
   "id": "a11440b9",
   "metadata": {},
   "outputs": [
    {
     "name": "stdout",
     "output_type": "stream",
     "text": [
      "Top 10 keywords most likely to elicit a higher engagement rate are: \n",
      "['work' 'transportation' 'transit' 'today' 'support' 'spur_urbanist'\n",
      " 'service' 'seamless transit' 'seamless' 'riders'], and the top 10 keywords most likely to elicit a lower engagement were: ['fares' 'fare' 'caltrain' 'board' 'bay area transit' 'bay area' 'bay'\n",
      " 'area transit' 'area' 'agencies']\n"
     ]
    }
   ],
   "source": [
    "#get top 10 keywords\n",
    "feature_names = np.array(tfidf_vectorizer.get_feature_names_out())\n",
    "tfidf_sorting = np.argsort(feature_names.flatten())[::-1]\n",
    "\n",
    "top_10 = feature_names[tfidf_sorting][:10]\n",
    "bottom_10 = feature_names[tfidf_sorting][-10:]\n",
    "\n",
    "print(f'''Top 10 keywords most likely to elicit a higher engagement rate are: \n",
    "{top_10}, and the top 10 keywords most likely to elicit a lower engagement were: {bottom_10}''')"
   ]
  },
  {
   "cell_type": "markdown",
   "id": "78c984b0",
   "metadata": {},
   "source": [
    "Interesting"
   ]
  },
  {
   "cell_type": "code",
   "execution_count": 164,
   "id": "1afb2443",
   "metadata": {},
   "outputs": [],
   "source": [
    "import emoji\n",
    "\n",
    "#function to check if sth is an emoji\n",
    "def char_is_emoji(character):\n",
    "    return emoji.distinct_emoji_list(character)\n",
    "\n",
    "#function to count emoji\n",
    "def emoji_counter(text_string):\n",
    "    count = 0\n",
    "    for x in text_string:\n",
    "        a = char_is_emoji(x)\n",
    "        if len(a) > 0:\n",
    "            count += 1\n",
    "    return count\n",
    "  \n",
    "df['emoji_count'] = df['Tweet text'].apply(emoji_counter)"
   ]
  },
  {
   "cell_type": "code",
   "execution_count": 165,
   "id": "ea5cb31e",
   "metadata": {
    "scrolled": true
   },
   "outputs": [
    {
     "data": {
      "text/plain": [
       "0       0\n",
       "1       0\n",
       "2       0\n",
       "3       0\n",
       "4       0\n",
       "       ..\n",
       "2244    0\n",
       "2245    0\n",
       "2246    2\n",
       "2247    1\n",
       "2248    1\n",
       "Name: emoji_count, Length: 2249, dtype: int64"
      ]
     },
     "execution_count": 165,
     "metadata": {},
     "output_type": "execute_result"
    }
   ],
   "source": [
    "df['emoji_count']"
   ]
  },
  {
   "cell_type": "code",
   "execution_count": 166,
   "id": "aa99d70c",
   "metadata": {},
   "outputs": [],
   "source": [
    "temp = []\n",
    "for x in df['replies']:\n",
    "    if len(x) > 0:\n",
    "        a = re.sub('\\[', '', str(x))\n",
    "        b = re.sub('\\]', '', a)\n",
    "        c = re.sub('\\'', '', b)\n",
    "        d = re.sub('\\,', '', c)\n",
    "        temp.append(re.split(' ', d))\n",
    "    else:\n",
    "        temp.append('')\n",
    "temp2 = []\n",
    "for x in temp:\n",
    "    temp2.append(len(x))\n",
    "df['sum_mentions'] = temp2"
   ]
  },
  {
   "cell_type": "code",
   "execution_count": 167,
   "id": "207addbf",
   "metadata": {},
   "outputs": [],
   "source": [
    "#Let's check tweets with links and find it's correlation with engagements\n",
    "has_links = []\n",
    "for x in df['links']:\n",
    "    if type(x) == str:\n",
    "        has_links.append(1)\n",
    "    else:\n",
    "        has_links.append(0)"
   ]
  },
  {
   "cell_type": "code",
   "execution_count": 168,
   "id": "4956b016",
   "metadata": {},
   "outputs": [],
   "source": [
    "temp = []\n",
    "for x in df['links']:\n",
    "    temp.append(re.split(' ', str(x)))\n",
    "temp2 = []\n",
    "for x in temp:\n",
    "    temp2.append(len(x))\n",
    "df['link_count'] = temp2"
   ]
  },
  {
   "cell_type": "code",
   "execution_count": 169,
   "id": "0bd261bf",
   "metadata": {},
   "outputs": [],
   "source": [
    "df['word_count'] = [len(re.split(' ', x)) for x in df['Tweet text']]"
   ]
  },
  {
   "cell_type": "code",
   "execution_count": 185,
   "id": "d5611756",
   "metadata": {},
   "outputs": [
    {
     "data": {
      "text/html": [
       "<div>\n",
       "<style scoped>\n",
       "    .dataframe tbody tr th:only-of-type {\n",
       "        vertical-align: middle;\n",
       "    }\n",
       "\n",
       "    .dataframe tbody tr th {\n",
       "        vertical-align: top;\n",
       "    }\n",
       "\n",
       "    .dataframe thead th {\n",
       "        text-align: right;\n",
       "    }\n",
       "</style>\n",
       "<table border=\"1\" class=\"dataframe\">\n",
       "  <thead>\n",
       "    <tr style=\"text-align: right;\">\n",
       "      <th></th>\n",
       "      <th>day</th>\n",
       "      <th>hour</th>\n",
       "      <th>minute</th>\n",
       "      <th>sum_mentions</th>\n",
       "      <th>emoji_count</th>\n",
       "      <th>word_count</th>\n",
       "      <th>link_count</th>\n",
       "      <th>Sentiment Score</th>\n",
       "    </tr>\n",
       "  </thead>\n",
       "  <tbody>\n",
       "    <tr>\n",
       "      <th>0</th>\n",
       "      <td>6</td>\n",
       "      <td>18</td>\n",
       "      <td>1</td>\n",
       "      <td>1</td>\n",
       "      <td>0</td>\n",
       "      <td>50</td>\n",
       "      <td>1</td>\n",
       "      <td>0.086643</td>\n",
       "    </tr>\n",
       "    <tr>\n",
       "      <th>1</th>\n",
       "      <td>5</td>\n",
       "      <td>14</td>\n",
       "      <td>24</td>\n",
       "      <td>1</td>\n",
       "      <td>0</td>\n",
       "      <td>4</td>\n",
       "      <td>1</td>\n",
       "      <td>0.063830</td>\n",
       "    </tr>\n",
       "    <tr>\n",
       "      <th>2</th>\n",
       "      <td>5</td>\n",
       "      <td>2</td>\n",
       "      <td>28</td>\n",
       "      <td>1</td>\n",
       "      <td>0</td>\n",
       "      <td>27</td>\n",
       "      <td>2</td>\n",
       "      <td>0.044199</td>\n",
       "    </tr>\n",
       "    <tr>\n",
       "      <th>3</th>\n",
       "      <td>2</td>\n",
       "      <td>23</td>\n",
       "      <td>29</td>\n",
       "      <td>1</td>\n",
       "      <td>0</td>\n",
       "      <td>46</td>\n",
       "      <td>1</td>\n",
       "      <td>0.055016</td>\n",
       "    </tr>\n",
       "    <tr>\n",
       "      <th>4</th>\n",
       "      <td>2</td>\n",
       "      <td>23</td>\n",
       "      <td>9</td>\n",
       "      <td>2</td>\n",
       "      <td>0</td>\n",
       "      <td>35</td>\n",
       "      <td>1</td>\n",
       "      <td>0.034826</td>\n",
       "    </tr>\n",
       "  </tbody>\n",
       "</table>\n",
       "</div>"
      ],
      "text/plain": [
       "   day  hour  minute  sum_mentions  emoji_count  word_count  link_count  \\\n",
       "0    6    18       1             1            0          50           1   \n",
       "1    5    14      24             1            0           4           1   \n",
       "2    5     2      28             1            0          27           2   \n",
       "3    2    23      29             1            0          46           1   \n",
       "4    2    23       9             2            0          35           1   \n",
       "\n",
       "   Sentiment Score  \n",
       "0         0.086643  \n",
       "1         0.063830  \n",
       "2         0.044199  \n",
       "3         0.055016  \n",
       "4         0.034826  "
      ]
     },
     "execution_count": 185,
     "metadata": {},
     "output_type": "execute_result"
    }
   ],
   "source": [
    "#create a df for linear regression, \n",
    "df_pred_lr = df[['engagement rate','day','hour', 'minute', 'sum_mentions',\n",
    "                  'emoji_count', 'word_count','link_count', 'Sentiment Score']]\n",
    "#create features\n",
    "x_lr = df_pred_lr.iloc[:,1:]\n",
    "\n",
    "#create target\n",
    "y_lr = df_pred_lr['engagement rate']\n",
    "\n",
    "x_lr.head()"
   ]
  },
  {
   "cell_type": "code",
   "execution_count": 186,
   "id": "633be589",
   "metadata": {
    "scrolled": true
   },
   "outputs": [
    {
     "name": "stdout",
     "output_type": "stream",
     "text": [
      "Mean Squared Error: 0.0007673429816235223\n",
      "Root Mean Squared Error: 0.02770095633048654\n"
     ]
    }
   ],
   "source": [
    "from sklearn.linear_model import LinearRegression\n",
    "from sklearn.metrics import mean_squared_error\n",
    "\n",
    "#create new train & test set\n",
    "X_train, X_test, y_train, y_test = train_test_split(x_lr, y_lr, random_state=53, test_size=.33)\n",
    "\n",
    "#initialise model\n",
    "lr = LinearRegression()\n",
    "\n",
    "#fit & predict\n",
    "lr.fit(X_train, y_train)\n",
    "lr_pred = lr.predict(X_test)\n",
    "\n",
    "#evaluate\n",
    "print('Mean Squared Error:', metrics.mean_squared_error(y_test, lr_pred))\n",
    "print('Root Mean Squared Error:', np.sqrt(metrics.mean_squared_error(y_test, lr_pred)))"
   ]
  },
  {
   "cell_type": "code",
   "execution_count": 187,
   "id": "1df39f68",
   "metadata": {},
   "outputs": [
    {
     "data": {
      "text/html": [
       "<div>\n",
       "<style scoped>\n",
       "    .dataframe tbody tr th:only-of-type {\n",
       "        vertical-align: middle;\n",
       "    }\n",
       "\n",
       "    .dataframe tbody tr th {\n",
       "        vertical-align: top;\n",
       "    }\n",
       "\n",
       "    .dataframe thead th {\n",
       "        text-align: right;\n",
       "    }\n",
       "</style>\n",
       "<table border=\"1\" class=\"dataframe\">\n",
       "  <thead>\n",
       "    <tr style=\"text-align: right;\">\n",
       "      <th></th>\n",
       "      <th>day</th>\n",
       "      <th>hour</th>\n",
       "      <th>minute</th>\n",
       "      <th>sum_mentions</th>\n",
       "      <th>emoji_count</th>\n",
       "      <th>word_count</th>\n",
       "      <th>link_count</th>\n",
       "      <th>Sentiment Score</th>\n",
       "    </tr>\n",
       "  </thead>\n",
       "  <tbody>\n",
       "    <tr>\n",
       "      <th>0</th>\n",
       "      <td>6</td>\n",
       "      <td>18</td>\n",
       "      <td>1</td>\n",
       "      <td>1</td>\n",
       "      <td>0</td>\n",
       "      <td>50</td>\n",
       "      <td>1</td>\n",
       "      <td>0.086643</td>\n",
       "    </tr>\n",
       "    <tr>\n",
       "      <th>1</th>\n",
       "      <td>5</td>\n",
       "      <td>14</td>\n",
       "      <td>24</td>\n",
       "      <td>1</td>\n",
       "      <td>0</td>\n",
       "      <td>4</td>\n",
       "      <td>1</td>\n",
       "      <td>0.063830</td>\n",
       "    </tr>\n",
       "    <tr>\n",
       "      <th>2</th>\n",
       "      <td>5</td>\n",
       "      <td>2</td>\n",
       "      <td>28</td>\n",
       "      <td>1</td>\n",
       "      <td>0</td>\n",
       "      <td>27</td>\n",
       "      <td>2</td>\n",
       "      <td>0.044199</td>\n",
       "    </tr>\n",
       "    <tr>\n",
       "      <th>3</th>\n",
       "      <td>2</td>\n",
       "      <td>23</td>\n",
       "      <td>29</td>\n",
       "      <td>1</td>\n",
       "      <td>0</td>\n",
       "      <td>46</td>\n",
       "      <td>1</td>\n",
       "      <td>0.055016</td>\n",
       "    </tr>\n",
       "    <tr>\n",
       "      <th>4</th>\n",
       "      <td>2</td>\n",
       "      <td>23</td>\n",
       "      <td>9</td>\n",
       "      <td>2</td>\n",
       "      <td>0</td>\n",
       "      <td>35</td>\n",
       "      <td>1</td>\n",
       "      <td>0.034826</td>\n",
       "    </tr>\n",
       "  </tbody>\n",
       "</table>\n",
       "</div>"
      ],
      "text/plain": [
       "   day  hour  minute  sum_mentions  emoji_count  word_count  link_count  \\\n",
       "0    6    18       1             1            0          50           1   \n",
       "1    5    14      24             1            0           4           1   \n",
       "2    5     2      28             1            0          27           2   \n",
       "3    2    23      29             1            0          46           1   \n",
       "4    2    23       9             2            0          35           1   \n",
       "\n",
       "   Sentiment Score  \n",
       "0         0.086643  \n",
       "1         0.063830  \n",
       "2         0.044199  \n",
       "3         0.055016  \n",
       "4         0.034826  "
      ]
     },
     "execution_count": 187,
     "metadata": {},
     "output_type": "execute_result"
    }
   ],
   "source": [
    "x_lr.head()"
   ]
  },
  {
   "cell_type": "code",
   "execution_count": 210,
   "id": "8f607ecc",
   "metadata": {},
   "outputs": [],
   "source": [
    "%%capture [--no-stderr]\n",
    "#check same values but diff day of the week\n",
    "l = {}\n",
    "for item in range(0,7):\n",
    "    prediction = lr.predict([[item,np.mean(x_lr['hour']),np.mean(x_lr['minute']),np.mean(x_lr['sum_mentions']),np.mean(x_lr['emoji_count']),np.mean(x_lr['word_count']),np.mean(x_lr['link_count']),np.mean(x_lr['Sentiment Score'])]])\n",
    "    l[item] = prediction    "
   ]
  },
  {
   "cell_type": "code",
   "execution_count": 211,
   "id": "4c30e4f7",
   "metadata": {},
   "outputs": [
    {
     "name": "stdout",
     "output_type": "stream",
     "text": [
      "\n",
      "With given variables the 'best day' to tweet is 0 with predicted engagement rate of [0.02350074]\n"
     ]
    }
   ],
   "source": [
    "print(\"\\nWith given variables the 'best day' to tweet is\", sorted(l.items())[0][0], \"with predicted engagement rate of\", sorted(l.items())[0][1])"
   ]
  },
  {
   "cell_type": "code",
   "execution_count": 8,
   "id": "c1431e83",
   "metadata": {},
   "outputs": [
    {
     "data": {
      "image/png": "[encoded data removed]",
      "text/plain": [
       "<Figure size 432x288 with 2 Axes>"
      ]
     },
     "metadata": {
      "needs_background": "light"
     },
     "output_type": "display_data"
    }
   ],
   "source": [
    "data = df[['retweets', 'likes', 'user profile clicks', 'url clicks', 'impressions']]\n",
    "corr = data.corr()\n",
    "fig = plt.figure()\n",
    "ax = fig.add_subplot(111)\n",
    "cax = ax.matshow(corr,cmap='coolwarm', vmin=-1, vmax=1)\n",
    "fig.colorbar(cax)\n",
    "ticks = np.arange(0,len(data.columns),1)\n",
    "ax.set_xticks(ticks)\n",
    "plt.xticks(rotation=90)\n",
    "ax.set_yticks(ticks)\n",
    "ax.set_xticklabels(data.columns)\n",
    "ax.set_yticklabels(data.columns)\n",
    "plt.show()"
   ]
  },
  {
   "cell_type": "markdown",
   "id": "b69dfcf4",
   "metadata": {},
   "source": [
    "That's interesting, url clicks doesn't seem to correlate that highly with the other variables, which indicates that it might not be particularly important. However we know from EDA that one thing the top tweets all had in common was really compelling links. Let's look at the distribution and see if maybe it's just really skewed."
   ]
  },
  {
   "cell_type": "code",
   "execution_count": 9,
   "id": "00c3807d",
   "metadata": {
    "scrolled": true
   },
   "outputs": [
    {
     "data": {
      "text/plain": [
       "<AxesSubplot:>"
      ]
     },
     "execution_count": 9,
     "metadata": {},
     "output_type": "execute_result"
    },
    {
     "data": {
      "image/png": "[encoded data removed]",
      "text/plain": [
       "<Figure size 432x288 with 1 Axes>"
      ]
     },
     "metadata": {
      "needs_background": "light"
     },
     "output_type": "display_data"
    }
   ],
   "source": [
    "clicks = df[(df['url clicks']>30)]\n",
    "clicks['url clicks'].hist(bins=100)"
   ]
  },
  {
   "cell_type": "markdown",
   "id": "3e1a9a8e",
   "metadata": {},
   "source": [
    "Yeah it's definitely pretty skewed. I think we can say that while it's true in a few specific cases that really compelling links will drive engagement, it might not be generally true.\n",
    "\n",
    "Next Let's look at sentiment."
   ]
  }
 ],
 "metadata": {
  "kernelspec": {
   "display_name": "Python 3 (ipykernel)",
   "language": "python",
   "name": "python3"
  },
  "language_info": {
   "codemirror_mode": {
    "name": "ipython",
    "version": 3
   },
   "file_extension": ".py",
   "mimetype": "text/x-python",
   "name": "python",
   "nbconvert_exporter": "python",
   "pygments_lexer": "ipython3",
   "version": "3.8.8"
  }
 },
 "nbformat": 4,
 "nbformat_minor": 5
}
